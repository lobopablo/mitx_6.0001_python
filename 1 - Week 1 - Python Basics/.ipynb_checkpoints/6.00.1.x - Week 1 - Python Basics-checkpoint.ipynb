{
 "cells": [
  {
   "cell_type": "markdown",
   "metadata": {},
   "source": [
    "# Video 1: Introduction\n",
    "\n",
    "**What do we want you to take away?** \n",
    "\n",
    "How to think computationally, algorithmically. How can I describe this problem in order to get the computer to do it?\n",
    "\n",
    "* Data structures.    \n",
    "\n",
    "* Iteration and recursions as computational metaphors.\n",
    "\n",
    "* Abstraction of procedures and data types.\n",
    "\n",
    "* Organize and modularize systems using object classes and methods.\n",
    "\n",
    "* Different classes of algorithms, searching and sorting.\n",
    "\n",
    "* Complexity of algorithms.\n",
    "\n",
    "**What does a computer do?** \n",
    "\n",
    "1. Perform calculations.\n",
    "\n",
    "    * Built in to the language.\n",
    "    \n",
    "    * Ones that you define as the programmer.\n",
    "    \n",
    "2. Remember results.\n",
    "\n",
    "**Are there limits?**\n",
    "\n",
    "* Some problems are too complex.\n",
    "\n",
    "* Some problems are fundamentally impossible to compute."
   ]
  },
  {
   "cell_type": "markdown",
   "metadata": {},
   "source": [
    "%%latex\n",
    "\\newpage"
   ]
  },
  {
   "cell_type": "markdown",
   "metadata": {},
   "source": [
    "# Video 2: Knowledge\n",
    "\n",
    "**Types of knowledge**\n",
    "\n",
    "1. Declarative knowledge: statements of fact.\n",
    "\n",
    "> Square root of a number x is y suh that y*y = x\n",
    "\n",
    "2. Imperative knowledge: is a recipe or \"how-to\".\n",
    "\n",
    "> Recipe for deducing square root of number x.\n",
    "\n",
    "**What is a recipe? (aka algorithm!)**\n",
    "\n",
    "1. Sequence of simple steps.\n",
    "\n",
    "2. Flow of control process that specifies when each step is executed.\n",
    "\n",
    "3. A means of determining when to stop. "
   ]
  },
  {
   "cell_type": "markdown",
   "metadata": {},
   "source": [
    "%%latex\n",
    "\\newpage"
   ]
  },
  {
   "cell_type": "markdown",
   "metadata": {},
   "source": [
    "# Video 3: Machines\n",
    "\n",
    "**How to capture a recipe in a mechanical process?**\n",
    "\n",
    "1. Fixed program computer.\n",
    "\n",
    "> Examples: Hand-held computer, Alan Turing's Bombe.\n",
    "\n",
    "2. Stored program computer.\n",
    "\n",
    "> Can load a program and execute its instructions.\n",
    "\n",
    "**Basic Machine Architecture**\n",
    "\n",
    "1. Memory – Data, or instructions (a program).\n",
    "\n",
    "2. Input / outputs.\n",
    "\n",
    "3. ALU: Arithmetic Logic Unit. \n",
    "\n",
    "Works between the IO and the memory. Performs primitive operations\n",
    "\n",
    "4. Control Unit.\n",
    "\n",
    "Has a program counter. It reads each instruction and then adds one (to move to the 2nd instruction, and so on). Eventually a test might be reached, and depending on its result, the counter will be changed. \n",
    "\n",
    "**Stored Program Computer**\n",
    "\n",
    "1. Sequence of instructions stored inside computer.\n",
    "\n",
    "> Built from predefined set of primitive instructions: logic, tests, moving data.\n",
    "\n",
    "2. A special program (interpreter) executes each instruction in order.\n",
    "\n",
    "> Uses tests to change flow of control.\n",
    "\n",
    "> Stops when done.\n",
    "\n",
    "**Stored Program Computer**\n",
    "\n",
    "* Turing showed you can compute anything using 6 primitives.\n",
    "\n",
    "\tExample: right, left, scan, read, write, do nothing (Turing Machine).\n",
    "    \n",
    "* Modern programming languages provide more convenient set of primitives.\n",
    "\n",
    "* Anything that’s computable in one (Turing Complete) language is computable in any other (Turing Complete) programming language. "
   ]
  },
  {
   "cell_type": "markdown",
   "metadata": {},
   "source": [
    "%%latex\n",
    "\\newpage"
   ]
  },
  {
   "cell_type": "markdown",
   "metadata": {},
   "source": [
    "# Video 4: Languages\n",
    "\n",
    "**How to create recipes?**\n",
    "\n",
    "* A programming languages provides primitive operations.\n",
    "\n",
    "* **Expressions** are complex but legal combinations of primitives in a programming language.\n",
    "\n",
    "* Expressions and computations have **values** and **meanings** in a programming language.\n",
    "\n",
    "**Primitive constructs**\n",
    "\n",
    "* English: words.\n",
    "\n",
    "* Programming Language: numbers, strings, simple operators.\n",
    "\n",
    "**Syntax: Is this a legal sentence or not?**\n",
    "\n",
    "* \"hi\"5, isn't syntactically valid.\n",
    "\n",
    "* 3.2*5 is syntactically valid.\n",
    "\n",
    "**Semantics: What does this expression evaluate to?**\n",
    "\n",
    "* Static semantics: \"Which syntactically valid strings actually have a meaning?\"\n",
    "\n",
    "    * 3 + \"hi\", syntactically valid (primitive, operator, primitive), yet not semantically valid.\n",
    "\n",
    "* In a programming language, a both syntactically and static semantically correct expression will have only **one** meaning.\n",
    "\n",
    "**Type of errors**\n",
    "\n",
    "* Syntactic errors: easily caught.\n",
    "\n",
    "* Static semantic errors: can cause unpredictable behaviour, some languages check for them.\n",
    "\n",
    "* No semantic errors but different meaning than what was originally inteded: these are the worst errors."
   ]
  },
  {
   "cell_type": "markdown",
   "metadata": {},
   "source": [
    "%%latex\n",
    "\\newpage"
   ]
  },
  {
   "cell_type": "markdown",
   "metadata": {},
   "source": [
    "# Video 5: Types\n",
    "\n",
    "**Program:** Sequence of definitions and commands. Definitions are evaluated. Commands are executed.\n",
    "\n",
    "* A program will either be directly typed in a **shell** or stored in a **file** that is read into the shell and evaluated.\n",
    "\n",
    "**Objects**: programs manipulate data objects.\n",
    "\n",
    "* Objects have a type that defines the kinds of the things programs can do to them.\n",
    "\n",
    "* Objects are **scalar** (cannot be subdivided) or **non-scalar** (have internal structure that can be accessed).\n",
    "\n",
    "---\n",
    "\n",
    "**Scalar Objects**\n",
    "\n",
    "* int - Represent integers.\n",
    "\n",
    "* float - Represente real numbers.\n",
    "\n",
    "* bool - Represent Boolean values True and False.\n",
    "\n",
    "* NoneType - Special and has one value, None.\n",
    "\n",
    "* Can use type() to see the type of an object. \n",
    "\n",
    "---\n",
    "\n",
    "**Type Conversions (Cast)**\n",
    "\n",
    "* Can converb object of one type to another.\n",
    "\n",
    "    * float(3) converts integer 3 to float 3.0\n",
    "    \n",
    "    * int(3.9) trumps float 3.9 to int 3\n",
    "    \n",
    "---\n",
    "\n",
    "**Interesting example**\n",
    "\n",
    "* 3+5 as an input, gives an out: 5.\n",
    "\n",
    "* print(3+5) gives no out, since no value returned, just something printed.\n",
    "\n",
    "---\n",
    "\n",
    "\"Any expression that is syntactically valid has a value, which is itself a type.\"\n",
    "\n",
    "**Operators on ints and floats**\n",
    "\n",
    "* Sum, difference and product, between i and j:\n",
    "    \n",
    "    * If both are ints, result is int.\n",
    "    \n",
    "    * If either or both are floats, result is float.\n",
    "    \n",
    "* Division i/j: result is float.\n",
    "\n",
    "* Int Division i//j: result is int, quotient without reminder.\n",
    "\n",
    "* i%j: the remainder when i is divided by j.\n",
    "\n",
    "* i**j: i to the power of j."
   ]
  },
  {
   "cell_type": "markdown",
   "metadata": {},
   "source": [
    "%%latex\n",
    "\\newpage"
   ]
  },
  {
   "cell_type": "markdown",
   "metadata": {},
   "source": [
    "# Video 6: Variables\n",
    "\n",
    "Equal sign is an **asignment** of a value to a variable name. An assignment binds name to value.\n",
    "\n",
    "**Interesting tip**\n",
    "\n",
    "radius = radius + 1, can be replaced by, radius +=1 ."
   ]
  },
  {
   "cell_type": "markdown",
   "metadata": {},
   "source": [
    "%%latex\n",
    "\\newpage"
   ]
  },
  {
   "cell_type": "markdown",
   "metadata": {},
   "source": [
    "# Video 7: Operators and Branching\n",
    "\n",
    "**Comparison operators on int and float**\n",
    "\n",
    "* i>j\n",
    "\n",
    "* i>=j\n",
    "\n",
    "* i < j\n",
    "\n",
    "* i <= j\n",
    "\n",
    "* i == j, equality test, True if i=j\n",
    "\n",
    "    * Interesting point about comparisons. Python interpreter compares two numbers by **promotion** both to the more complex type. So for example in the comparison 10 == 10.0, the value of the expression is True, since both are promoted to float and are therefore equal.\n",
    "\n",
    "* i != j, inequality test, True if i not equal to j\n",
    "\n",
    "---\n",
    "\n",
    "**Logic operators on bools**\n",
    "\n",
    "* not a, True if a is False.\n",
    "\n",
    "* a and b, True if both are True.\n",
    "\n",
    "* a or b, True if either or both are True.\n",
    "\n",
    "---\n",
    "\n",
    "**Branched programs**\n",
    "\n",
    "* Indentation is important: each indented set of expressions denotes a block of instructions. This indentation also provides a visual structure that reflects the semantic structure of the program. \n",
    "\n",
    "* Branching programs allow us to make choices and do different things. But still the case that at most, each statement gets executed once. "
   ]
  },
  {
   "cell_type": "markdown",
   "metadata": {},
   "source": [
    "%%latex\n",
    "\\newpage"
   ]
  },
  {
   "cell_type": "markdown",
   "metadata": {},
   "source": [
    "# Video 8: Bindings\n",
    "\n",
    "**Variables / Bindings**\n",
    "\n",
    "* Name\n",
    "\n",
    "    * Descriptive, meaningful.\n",
    "    \n",
    "    * Helps you re-read code.\n",
    "    \n",
    "    * Cannot be keywords (int, float, etc.).\n",
    "\n",
    "* Value\n",
    "\n",
    "    * Information stored.\n",
    "    \n",
    "    * Can be updated. \n",
    "\n",
    "**Example** Needing to create a \"temp\" variable in order to exchange the values between two variables. Can't just do it without it."
   ]
  },
  {
   "cell_type": "markdown",
   "metadata": {},
   "source": [
    "%%latex\n",
    "\\newpage"
   ]
  },
  {
   "cell_type": "markdown",
   "metadata": {},
   "source": [
    "# Video 9: Strings\n",
    "\n",
    "**Types of variables:** int, float, bool, string!\n",
    "\n",
    "**String:** letters, special characters, spaces, digits. Enclosed in \"\" or ''.\n",
    "\n",
    "**Difference with Matlab treatment of strings**: Python will let you \"sum\" two strings in order to concatenate them (exactly like strcat would do in Matlab). \n",
    "\n",
    "**Concept of overloading an operation**\n",
    "\n",
    "* When using addition between strings, we say we are 'overloading' it because we are telling the operation to do something different to the arguments due to their type. \n",
    "\n",
    "**Operations on strings**\n",
    "\n",
    "* Succesive concatenation: 3*'eric' outputs 'ericericeric'\n",
    "\n",
    "    * This is yet another example of overloading an operation.\n",
    "\n",
    "* Length: len('eric') outputs 4\n",
    "\n",
    "* Indexing out of an object: 'eric'[1] outputs 'r'. Counting starts at zero. 'eric'[0] will output 'e'.\n",
    "\n",
    "* Slice a string apart: \n",
    "\n",
    "    * 'eric'[1:3] will output 'ri' \n",
    "    \n",
    "    * 'eric'[:3] will output 'eri' \n",
    "    \n",
    "    * 'eric'[1:] will output 'ric'\n",
    "    \n",
    "    * 'eric'[:] will output 'eric'\n",
    "    \n",
    "**Other operators**\n",
    "\n",
    "* 'in' operator tests for collection membership (a 'collection' refers to a string, list, tuple or dictionary).\n",
    "\n",
    "    * element in coll, evalues to True if elemenet is a member of the collection coll, and False otherwise.\n",
    "    \n",
    "* 'not in' is exactly the same but the value is the opposite.\n",
    "\n",
    "**Advanced String Slicing**\n",
    "\n",
    "* You can slice a string such a s[i:j], which gives you a portion of string s from index i to index j-1.\n",
    "\n",
    "* You can also slice a string like this s[i:j:k], which gives a slice of the string s from index i to index j-1 with step size k.\n",
    "\n",
    "    * A cool idea in this area is using the following, s[::-1], to print string s in its entirety but backwards!"
   ]
  },
  {
   "cell_type": "markdown",
   "metadata": {},
   "source": [
    "%%latex\n",
    "\\newpage"
   ]
  },
  {
   "cell_type": "markdown",
   "metadata": {},
   "source": [
    "# Video 10: Input/Output\n",
    "\n",
    "**Print:** used to **output** stuff to console.\n",
    "\n"
   ]
  },
  {
   "cell_type": "code",
   "execution_count": 1,
   "metadata": {},
   "outputs": [
    {
     "name": "stdout",
     "output_type": "stream",
     "text": [
      "1\n"
     ]
    }
   ],
   "source": [
    "x = 1 \n",
    "print(x)"
   ]
  },
  {
   "cell_type": "code",
   "execution_count": 2,
   "metadata": {},
   "outputs": [
    {
     "name": "stdout",
     "output_type": "stream",
     "text": [
      "my fav num is 1 . x =  1\n"
     ]
    }
   ],
   "source": [
    "x_str = str(x)\n",
    "print(\"my fav num is\", x, \".\", \"x = \", x)"
   ]
  },
  {
   "cell_type": "markdown",
   "metadata": {},
   "source": [
    "Print is printing each element followed by a space."
   ]
  },
  {
   "cell_type": "code",
   "execution_count": 3,
   "metadata": {},
   "outputs": [
    {
     "name": "stdout",
     "output_type": "stream",
     "text": [
      "my fav num is 1. x = 1\n"
     ]
    }
   ],
   "source": [
    "print(\"my fav num is \" + x_str + \". \" + \"x = \" + x_str)"
   ]
  },
  {
   "cell_type": "markdown",
   "metadata": {},
   "source": [
    "Printing a concatenation of strings, letting me control the spaces more directly. Of course the possibility of choosing a separator works."
   ]
  },
  {
   "cell_type": "markdown",
   "metadata": {},
   "source": [
    "--- \n",
    "\n",
    "**Input**\n",
    "\n",
    "* Input expects everything to be a string."
   ]
  },
  {
   "cell_type": "code",
   "execution_count": 4,
   "metadata": {},
   "outputs": [
    {
     "name": "stdout",
     "output_type": "stream",
     "text": [
      "type something'7\n"
     ]
    }
   ],
   "source": [
    "text = input(\"type something'\")"
   ]
  },
  {
   "cell_type": "code",
   "execution_count": 5,
   "metadata": {},
   "outputs": [
    {
     "data": {
      "text/plain": [
       "'7'"
      ]
     },
     "execution_count": 5,
     "metadata": {},
     "output_type": "execute_result"
    }
   ],
   "source": [
    "text"
   ]
  },
  {
   "cell_type": "markdown",
   "metadata": {},
   "source": [
    "The double quotes are there because I typed them in. Input expects everything to be a string, so if I don't want the quote marks, I don't need to add them there. But what happens if I want to input a number (and have it saved as type = int, for example)? I need to cast it."
   ]
  },
  {
   "cell_type": "code",
   "execution_count": 6,
   "metadata": {},
   "outputs": [
    {
     "name": "stdout",
     "output_type": "stream",
     "text": [
      "Type a number...4\n"
     ]
    }
   ],
   "source": [
    "num = int(input(\"Type a number...\"))"
   ]
  },
  {
   "cell_type": "code",
   "execution_count": 7,
   "metadata": {
    "scrolled": true
   },
   "outputs": [
    {
     "name": "stdout",
     "output_type": "stream",
     "text": [
      "20\n"
     ]
    }
   ],
   "source": [
    "print(5*num)"
   ]
  },
  {
   "cell_type": "markdown",
   "metadata": {},
   "source": [
    "%%latex\n",
    "\\newpage"
   ]
  },
  {
   "cell_type": "markdown",
   "metadata": {},
   "source": [
    "# Video 11: IDEs\n",
    "\n",
    "* Integrated development enviroment (IDE) comes with:\n",
    "\n",
    "    * Text editor.\n",
    "    \n",
    "    * Shell.\n",
    "    \n",
    "    * Integrated debugger."
   ]
  },
  {
   "cell_type": "markdown",
   "metadata": {},
   "source": [
    "%%latex\n",
    "\\newpage"
   ]
  },
  {
   "cell_type": "markdown",
   "metadata": {},
   "source": [
    "# Video 12: Control Flow\n",
    "\n",
    "**Branching program**: Software that has at least two branches of different actions that will (or not) happen depending on the result of a test.\n",
    "\n",
    "Up until now, with only if (and elif and else) statements, there is no way to implement an infinite 'loop' withot using infinite lines of code. Therefore, while loops are introduced.\n",
    "\n",
    "---\n",
    "\n",
    "**While loops**\n",
    "\n",
    "* **condition** evaluates to a Boolean. \n",
    "\n",
    "* If **condition** is True, do all the steps inside the while code block.\n",
    "    \n",
    "* Check **condition** again.\n",
    "    \n",
    "* Repeat until **condition** is False.\n",
    "\n",
    "One can see that while loops can have some inconvenients, and that is what gives place to a more convenient kind of loop, called the **for loop**. \n",
    "\n",
    "---\n",
    "\n",
    "**For loops**\n",
    "\n",
    "* Each time through the loop, **variable** takes a value.\n",
    "\n",
    "* First time, **variable** starts at the smallest value.\n",
    "\n",
    "* Next time, **variable** gets the prev value +1."
   ]
  },
  {
   "cell_type": "code",
   "execution_count": 8,
   "metadata": {},
   "outputs": [
    {
     "name": "stdout",
     "output_type": "stream",
     "text": [
      "0\n",
      "1\n",
      "2\n",
      "3\n",
      "4\n"
     ]
    }
   ],
   "source": [
    "for n in range(5):\n",
    "    print(n)"
   ]
  },
  {
   "cell_type": "markdown",
   "metadata": {},
   "source": [
    "* A useful tool within for loops, is the keyword **break**. It will stop the execution of the loop at that point, breaking out of it.\n",
    "\n",
    "**For loops vs while loops**\n",
    "\n",
    "* For loops have a known number of iterations, while loops have an unbounded number of iterations.\n",
    "\n",
    "* Both loops can end early via **break**.\n",
    "\n",
    "* For loops use a counter, while loops may use a counter.\n",
    "\n",
    "* Can always rewrite a for loop using a while loop. May not be able to rewrite a while loop using a for loop. \n",
    "\n",
    "**Useful nomenclature for loops**\n",
    "\n",
    "a += b is equivalent to a = a + b\n",
    "\n",
    "a -= b is equivalent to a = a - b\n",
    "\n",
    "a *= b is equivalent to a = a * b\n",
    "\n",
    "a /= b is equivalent to a = a / b"
   ]
  },
  {
   "cell_type": "markdown",
   "metadata": {},
   "source": [
    "%%latex\n",
    "\\newpage"
   ]
  },
  {
   "cell_type": "markdown",
   "metadata": {},
   "source": [
    "# Video 13: Iteration\n",
    "\n",
    "The same code can be used multiple times. First run a test, then run the loop body and keep running the test until the test evaluates to False. Some properties of iteration loops: \n",
    "\n",
    "* Need to set an iteration variable outside the loop.\n",
    "\n",
    "* Need to test variable to determine when done.\n",
    "\n",
    "* Need to change variable within the loop, in addition to other work. \n"
   ]
  },
  {
   "cell_type": "markdown",
   "metadata": {},
   "source": [
    "%%latex\n",
    "\\newpage"
   ]
  },
  {
   "cell_type": "markdown",
   "metadata": {},
   "source": [
    "**Information about the 'range' built-in function**\n",
    "\n",
    "* Form 1: range(stop) - 0,1,...,stop\n",
    "\n",
    "* Form 2: range(start,stop) - start,start+1,...,stop\n",
    "\n",
    "* Form 3: range(start, stop, stepsize). Ie: range(2,10,2) = 2,4,6,8."
   ]
  },
  {
   "cell_type": "markdown",
   "metadata": {},
   "source": [
    "%%latex\n",
    "\\newpage"
   ]
  },
  {
   "cell_type": "markdown",
   "metadata": {},
   "source": [
    "# Video 14: Guess and check\n",
    "\n",
    "Guess and check methods are very useful, yet not always the most efficient solution to a given problem. It is based on a systematic approach at generating guesses to the answer of the problem. \n",
    "\n",
    "* First version of the guess and check method. Created an iterative proposer of possible cubic roots of a given integer, by adding 1, trying whether it was or not the cubic root, and so on. Worked (for integers only), but slow and inefficient.\n",
    "\n",
    "---\n",
    "\n",
    "Useful to think about a **decrementing function**:\n",
    "\n",
    "* Maps set of program variables into an integer.\n",
    "\n",
    "* When loop is entered, value is non-negative.\n",
    "\n",
    "* When value is <=0, loop terminates, and\n",
    "\n",
    "* Value is decreased every time through loop \n",
    "\n",
    "What can go wrong within a loop?\n",
    "\n",
    "* The variable is not initialized. We are likely to get a **NameError**.\n",
    "\n",
    "* The variable is not changed inside the loop. We get an **infinite loop** because it never reaches what is referred to as a **Terminating condition**.\n",
    "\n",
    "---\n",
    "\n",
    "So a **guess and check** algorithm:\n",
    "\n",
    "* You are able to guess a value for solution.\n",
    "\n",
    "* You are able to check if the solution is correct.\n",
    "\n",
    "* Keep guessing until find solution or guessed all values.\n",
    "\n",
    "* The process is exhaustive enumeration. \n",
    "\n",
    "---\n",
    "\n",
    "* **Second version** of the guess and check algorithm is created using a for loop. \n"
   ]
  }
 ],
 "metadata": {
  "kernelspec": {
   "display_name": "Python 3",
   "language": "python",
   "name": "python3"
  },
  "language_info": {
   "codemirror_mode": {
    "name": "ipython",
    "version": 3
   },
   "file_extension": ".py",
   "mimetype": "text/x-python",
   "name": "python",
   "nbconvert_exporter": "python",
   "pygments_lexer": "ipython3",
   "version": "3.7.6"
  }
 },
 "nbformat": 4,
 "nbformat_minor": 4
}

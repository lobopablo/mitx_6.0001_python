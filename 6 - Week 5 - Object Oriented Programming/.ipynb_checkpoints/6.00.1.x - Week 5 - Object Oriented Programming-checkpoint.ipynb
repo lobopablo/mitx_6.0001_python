{
 "cells": [
  {
   "cell_type": "markdown",
   "metadata": {},
   "source": [
    "# Video 1: Object Oriented Programming\n",
    "\n",
    "* Every **object** has:\n",
    "\n",
    "    * A type.\n",
    "    \n",
    "    * An internal data representation (primitive or composite).\n",
    "    \n",
    "    * A set of procedures for interaction with the object.\n",
    "\n",
    "* Each instance is a particular type of object.\n",
    "\n",
    "    * 1234 is instance of an int.\n",
    "    \n",
    "    * a = 'hello= is an instance of a string.\n",
    "\n",
    "---\n",
    "\n",
    "* Everything in python is an **object** and has a type.\n",
    "\n",
    "* Objects are a **data abstraction** that caputre:\n",
    "\n",
    "    * Internal representation through data attributes.\n",
    "    \n",
    "    * Interface for interacting with object through methods (procedures), defines behaviors but hides implementation.\n",
    "    \n",
    "* Can **create new instances of objects**.\n",
    "\n",
    "* Can also **destroy objects**.\n",
    "\n",
    "---\n",
    "\n",
    "Built in data objects:\n",
    "\n",
    "* Lists.\n",
    "\n",
    "* Tuples.\n",
    "\n",
    "* Strings.\n",
    "\n",
    "We want to explore ability to create our own data object types.\n",
    "\n",
    "---\n",
    "\n",
    "How are lists represented internally? They are a linked list of cells. But it doesn't matters. What matters is how to **manipulate** them. How do you do that?\n",
    "\n",
    "* L[i], L[i:j], L[i,j,k]\n",
    "\n",
    "* len(), min(), max(), etc.\n",
    "\n",
    "Internal representation should be **private**. Correct behavior may be compromised if you manipulate it directly - instead you use **defined interfaces** to do so.\n",
    "\n",
    "---\n",
    "\n",
    "How to create your own objects with classes? \n",
    "\n",
    "* Distinction: creating a class and using an instance of said class.\n",
    "\n",
    "    * A list is a class. L1 = [1,2,3] is an instance of said class.\n",
    "\n",
    "* Creating the class involves:\n",
    "\n",
    "    * Defining the class name.\n",
    "    \n",
    "    * Defining class attributes.\n",
    "    \n",
    "* Using the class involves:\n",
    "\n",
    "    * Creating new instances of objects.\n",
    "    \n",
    "    * Doing operations on the instances.\n",
    "    \n",
    "--- \n",
    "\n",
    "**Advantages of OOP**\n",
    "\n",
    "* Bundle data into packages together with rpocedures that work on them through well-defined interfaces.\n",
    "\n",
    "* Divide-and-conquer development.\n",
    "\n",
    "    * Implement and test behavior of each class separately.\n",
    "    \n",
    "    * Increased modularity reduces complexity.\n",
    "\n",
    "* Classes make it easy to reuse code.\n",
    "\n",
    "    * Many Python modules define new classes.\n",
    "    \n",
    "    * Each class has a separate environment (no collision on function names).\n",
    "    \n",
    "    * Inheritance allows subclasses to redefine or extend a selected subset of a superclass' behavior."
   ]
  },
  {
   "cell_type": "markdown",
   "metadata": {},
   "source": [
    "%%latex \n",
    "\\newpage"
   ]
  },
  {
   "cell_type": "markdown",
   "metadata": {},
   "source": [
    "# Video 2: Class Instances\n",
    "\n",
    "Use the class keyword to define a new type:\n",
    "\n",
    "class Coordinate(object):\n",
    "    (define attributes here)\n",
    "\n",
    "* Similar to def, indent code to indicate which statements are part of the **class definition**\n",
    "\n",
    "* 'class' shows class definition.\n",
    "\n",
    "* 'Coordinate' is the class name.\n",
    "\n",
    "* The word 'object' means that Coordinate is a Python object and inherits all its attributes.\n",
    "\n",
    "    * Coordinate is a subclass of object.\n",
    "    \n",
    "    * Object is a superclass of Coordinate.\n",
    "    \n",
    "---\n",
    "\n",
    "**What are attributes?**\n",
    "\n",
    "* Data and procedures that 'belong' to the class.\n",
    "\n",
    "    * Data attributes.\n",
    "    \n",
    "    * Procedural attributes (methods). Think of methods as functions that only work with this class.\n",
    "    \n",
    "---\n",
    "\n",
    "**How to create an instance of an object?**\n",
    "\n",
    "* Use a special method called **__init__** to initialize **some** data attributes:"
   ]
  },
  {
   "cell_type": "code",
   "execution_count": 65,
   "metadata": {},
   "outputs": [],
   "source": [
    "class Coordinate(object):\n",
    "    def __init__(self, x, y):\n",
    "        self.x = x\n",
    "        self.y = y"
   ]
  },
  {
   "cell_type": "markdown",
   "metadata": {},
   "source": [
    "* 'self' is a parameter to refer to an instance of the class.\n",
    "\n",
    "* x,y is the data that initializes a 'Coordinate' object.\n",
    "\n",
    "Example of actually creating an instance of a class:"
   ]
  },
  {
   "cell_type": "code",
   "execution_count": 66,
   "metadata": {},
   "outputs": [
    {
     "name": "stdout",
     "output_type": "stream",
     "text": [
      "3\n",
      "0\n"
     ]
    }
   ],
   "source": [
    "# Creating a new object of type Coordinate and passing in 3 and 4 to the __init__ method.\n",
    "c = Coordinate(3,4)\n",
    "# Note that argument for 'self' is automatically supplied by Python.\n",
    "origin = Coordinate(0,0)\n",
    "print(c.x)\n",
    "print(origin.x)"
   ]
  },
  {
   "cell_type": "markdown",
   "metadata": {},
   "source": [
    "Think of c as pointing to a frame:\n",
    "\n",
    "* Within the scope of that frame we bound values to data attribute variables.\n",
    "\n",
    "* c.x is interpreted as getting the value of c (a frame) and then looking up the value associated with x within that frame (thus the specific value for this instance). "
   ]
  },
  {
   "cell_type": "markdown",
   "metadata": {},
   "source": [
    "%%latex \n",
    "\\newpage"
   ]
  },
  {
   "cell_type": "markdown",
   "metadata": {},
   "source": [
    "# Video 3: Methods\n",
    "\n",
    "**What is a method?**\n",
    "\n",
    "* Procedural attribute, like a function that works only with this class. \n",
    "\n",
    "* Python always passes the actual object as the first argument, convention is to use self as the name of the first argument of all methods.\n",
    "\n",
    "* The \".\" operator is used to access any attribute:\n",
    "\n",
    "    * A data attribute of an object.\n",
    "    \n",
    "    * A method of an object.\n",
    "\n",
    "Example:"
   ]
  },
  {
   "cell_type": "code",
   "execution_count": 67,
   "metadata": {},
   "outputs": [
    {
     "name": "stdout",
     "output_type": "stream",
     "text": [
      "5.0\n"
     ]
    }
   ],
   "source": [
    "class Coordinate(object):\n",
    "    def __init__(self, x, y):\n",
    "        self.x = x\n",
    "        self.y = y\n",
    "    def distance(self, other):\n",
    "        x_diff_sq = (self.x-other.x)**2\n",
    "        y_diff_sq = (self.y-other.y)**2\n",
    "        return (x_diff_sq + y_diff_sq)**0.5\n",
    "    \n",
    "c = Coordinate(3,4)\n",
    "origin = Coordinate(0,0)\n",
    "print(c.distance(origin))"
   ]
  },
  {
   "cell_type": "markdown",
   "metadata": {},
   "source": [
    "How to use a method from the Coordinate class?\n",
    "\n",
    "* c: object on which to call method.\n",
    "\n",
    "* distance: name of method.\n",
    "\n",
    "* origin: parameters not including self.\n",
    "\n",
    "In this case, c.distance inherits the *distance* from the class definition, and automatically uses c as the first argument.\n",
    "\n",
    "---\n",
    "\n",
    "Another way:\n",
    "\n",
    "Coordinate.distance gets the value of Coordinate, then looks up the value associated with distance (a procedure), then invokes it (which requires two arguments)."
   ]
  },
  {
   "cell_type": "code",
   "execution_count": 68,
   "metadata": {},
   "outputs": [
    {
     "name": "stdout",
     "output_type": "stream",
     "text": [
      "5.0\n"
     ]
    }
   ],
   "source": [
    "# Name of class - Name of method - Both parameters, c and origin\n",
    "print(Coordinate.distance(c,origin))"
   ]
  },
  {
   "cell_type": "markdown",
   "metadata": {},
   "source": [
    "**How to print a representation of an object?**\n",
    "\n",
    "* Uninformative print representation by default.\n",
    "\n",
    "* Define a __str__ method for a class."
   ]
  },
  {
   "cell_type": "code",
   "execution_count": 69,
   "metadata": {},
   "outputs": [
    {
     "name": "stdout",
     "output_type": "stream",
     "text": [
      "<3,4>\n"
     ]
    }
   ],
   "source": [
    "class Coordinate(object):\n",
    "    def __init__(self, x, y):\n",
    "        self.x = x\n",
    "        self.y = y\n",
    "    def distance(self, other):\n",
    "        x_diff_sq = (self.x-other.x)**2\n",
    "        y_diff_sq = (self.y-other.y)**2\n",
    "        return (x_diff_sq + y_diff_sq)**0.5\n",
    "    def __str__(self):\n",
    "        return \"<\" + str(self.x) + \",\" + str(self.y) + \">\"\n",
    "\n",
    "c = Coordinate(3,4)\n",
    "# This prints it in a new way\n",
    "print(c)"
   ]
  },
  {
   "cell_type": "markdown",
   "metadata": {},
   "source": [
    "**How to check if something is an instance of a class, in this case Coordinate?**"
   ]
  },
  {
   "cell_type": "code",
   "execution_count": 70,
   "metadata": {},
   "outputs": [
    {
     "name": "stdout",
     "output_type": "stream",
     "text": [
      "True\n"
     ]
    }
   ],
   "source": [
    "print(isinstance(c,Coordinate))"
   ]
  },
  {
   "cell_type": "markdown",
   "metadata": {},
   "source": [
    "**Special operators**\n",
    "\n",
    "Full list: https://docs.python.org/3/reference/datamodel.html#basic-customization\n",
    "\n",
    "* Like print, can override these to work with your class.\n",
    "\n",
    "* Define them with double underscores before/after:\n",
    "\n",
    "    * __add__\n",
    "    \n",
    "    * __sub__\n",
    "    \n",
    "    * __eq__\n",
    "    \n",
    "    * __lt__\n",
    "    \n",
    "    * __str__ \n",
    "    \n",
    "    * and many others."
   ]
  },
  {
   "cell_type": "markdown",
   "metadata": {},
   "source": [
    "%%latex \n",
    "\\newpage"
   ]
  },
  {
   "cell_type": "markdown",
   "metadata": {},
   "source": [
    "# Video 4: Classes Examples\n",
    "\n",
    "**Example #1: Fractions**\n",
    "\n",
    "* Internal representation is two ints: numerator, denominator.\n",
    "\n",
    "* Interface a.k.a. methods a.k.a. how to interact with *Fractions* objects.\n",
    "\n",
    "    * Print representation.\n",
    "    \n",
    "    * Add, subtract.\n",
    "    \n",
    "    * Convert to a float."
   ]
  },
  {
   "cell_type": "code",
   "execution_count": 71,
   "metadata": {},
   "outputs": [
    {
     "name": "stdout",
     "output_type": "stream",
     "text": [
      "1 / 2\n",
      "2 / 3\n"
     ]
    }
   ],
   "source": [
    "# Create the class and create the print representation.\n",
    "class fraction(object):\n",
    "    def __init__(self,numer,denom):\n",
    "        self.numer = numer\n",
    "        self.denom = denom\n",
    "    def __str__(self):\n",
    "        return str(self.numer) + ' / ' + str(self.denom)\n",
    "\n",
    "oneHalf = fraction(1,2)\n",
    "twoThirds = fraction(2,3)\n",
    "print(oneHalf)\n",
    "print(twoThirds)"
   ]
  },
  {
   "cell_type": "markdown",
   "metadata": {},
   "source": [
    "One additional thing that is very important is being able to access data attributes. It is important to use a method that gives me an attribute of the object, and not call the attribute of the object directly. Here's how it's done:"
   ]
  },
  {
   "cell_type": "code",
   "execution_count": 72,
   "metadata": {},
   "outputs": [
    {
     "name": "stdout",
     "output_type": "stream",
     "text": [
      "1\n",
      "another way\n"
     ]
    },
    {
     "data": {
      "text/plain": [
       "2"
      ]
     },
     "execution_count": 72,
     "metadata": {},
     "output_type": "execute_result"
    }
   ],
   "source": [
    "class fraction(object):\n",
    "    # This was already here\n",
    "    def __init__(self,numer,denom):\n",
    "        self.numer = numer\n",
    "        self.denom = denom\n",
    "    def __str__(self):\n",
    "        return str(self.numer) + ' / ' + str(self.denom)\n",
    "    # This is the new part\n",
    "    def getNumer(self):\n",
    "        return self.numer\n",
    "    def getDenom(self):\n",
    "        return self.denom\n",
    "\n",
    "oneHalf = fraction(1,2)\n",
    "print(oneHalf.getNumer())\n",
    "# Can also invoke it in this way\n",
    "print('another way')\n",
    "fraction.getDenom(oneHalf)"
   ]
  },
  {
   "cell_type": "code",
   "execution_count": 73,
   "metadata": {},
   "outputs": [
    {
     "name": "stdout",
     "output_type": "stream",
     "text": [
      "7 / 6\n"
     ]
    }
   ],
   "source": [
    "# Adding the sum and subtraction\n",
    "\n",
    "class fraction(object):\n",
    "    # This was already here\n",
    "    def __init__(self, numer, denom):\n",
    "        self.numer = numer\n",
    "        self.denom = denom\n",
    "    def __str__(self):\n",
    "        return str(self.numer) + ' / ' + str(self.denom)\n",
    "    def getNumer(self):\n",
    "        return self.numer\n",
    "    def getDenom(self):\n",
    "        return self.denom\n",
    "    # This is new\n",
    "    def __add__(self, other):\n",
    "        numerNew = other.getDenom() * self.getNumer() \\\n",
    "                   + other.getNumer() * self.getDenom()\n",
    "        denomNew = other.getDenom() * self.getDenom()\n",
    "        return fraction(numerNew, denomNew)\n",
    "    def __sub__(self, other):\n",
    "        numerNew = other.getDenom() * self.getNumer() \\\n",
    "                   - other.getNumer() * self.getDenom()\n",
    "        denomNew = other.getDenom() * self.getDenom()\n",
    "        return fraction(numerNew, denomNew)\n",
    "    def convert(self):\n",
    "        return self.getNumer() / self.getDenom()\n",
    "\n",
    "oneHalf = fraction(1,2)\n",
    "twoThirds = fraction(2,3)\n",
    "new = oneHalf + twoThirds\n",
    "print(new)"
   ]
  },
  {
   "cell_type": "code",
   "execution_count": 74,
   "metadata": {},
   "outputs": [
    {
     "name": "stdout",
     "output_type": "stream",
     "text": [
      "-1 / 12\n"
     ]
    }
   ],
   "source": [
    "threeQuarters = fraction(3,4)\n",
    "secondNew = twoThirds - threeQuarters\n",
    "print(secondNew)"
   ]
  },
  {
   "cell_type": "code",
   "execution_count": 75,
   "metadata": {},
   "outputs": [
    {
     "data": {
      "text/plain": [
       "0.5"
      ]
     },
     "execution_count": 75,
     "metadata": {},
     "output_type": "execute_result"
    }
   ],
   "source": [
    "# Now I want to convert to a float.\n",
    "\n",
    "class fraction(object):\n",
    "    # This was already here\n",
    "    def __init__(self, numer, denom):\n",
    "        self.numer = numer\n",
    "        self.denom = denom\n",
    "    def __str__(self):\n",
    "        return str(self.numer) + ' / ' + str(self.denom)\n",
    "    def getNumer(self):\n",
    "        return self.numer\n",
    "    def getDenom(self):\n",
    "        return self.denom\n",
    "    def __add__(self, other):\n",
    "        numerNew = other.getDenom() * self.getNumer() \\\n",
    "                   + other.getNumer() * self.getDenom()\n",
    "        denomNew = other.getDenom() * self.getDenom()\n",
    "        return fraction(numerNew, denomNew)\n",
    "    def __sub__(self, other):\n",
    "        numerNew = other.getDenom() * self.getNumer() \\\n",
    "                   - other.getNumer() * self.getDenom()\n",
    "        denomNew = other.getDenom() * self.getDenom()\n",
    "        return fraction(numerNew, denomNew)\n",
    "    # This is new\n",
    "    def convert(self):\n",
    "        return self.getNumer() / self.getDenom()\n",
    "\n",
    "oneHalf = fraction(1,2)\n",
    "twoThirds = fraction(2,3)\n",
    "oneHalf.convert()"
   ]
  },
  {
   "cell_type": "markdown",
   "metadata": {},
   "source": [
    "We are going to create yet another example: **A set of integers**\n",
    "\n",
    "* Initially the set is empty.\n",
    "\n",
    "* A particular integer appears only once in a set: representational invariant enforced by the code.\n",
    "\n",
    "For this I will need:\n",
    "\n",
    "* Internal data representation: use a list to store the elements of a set.\n",
    "\n",
    "* Interface:\n",
    "\n",
    "    * Insert - insert integer e into set if not there.\n",
    "    \n",
    "    * Member - return True if integer e is in set, False else.\n",
    "    \n",
    "    * Remove - remove integer e from set, error if not present."
   ]
  },
  {
   "cell_type": "code",
   "execution_count": 76,
   "metadata": {},
   "outputs": [
    {
     "name": "stdout",
     "output_type": "stream",
     "text": [
      "{}\n",
      "{3,4}\n",
      "True\n",
      "False\n",
      "{3,4,6}\n",
      "{4,6}\n"
     ]
    },
    {
     "ename": "ValueError",
     "evalue": "3 not found",
     "output_type": "error",
     "traceback": [
      "\u001b[1;31m---------------------------------------------------------------------------\u001b[0m",
      "\u001b[1;31mValueError\u001b[0m                                Traceback (most recent call last)",
      "\u001b[1;32m<ipython-input-76-c470139e6128>\u001b[0m in \u001b[0;36mremove\u001b[1;34m(self, e)\u001b[0m\n\u001b[0;32m     23\u001b[0m         \u001b[1;32mtry\u001b[0m\u001b[1;33m:\u001b[0m\u001b[1;33m\u001b[0m\u001b[1;33m\u001b[0m\u001b[0m\n\u001b[1;32m---> 24\u001b[1;33m             \u001b[0mself\u001b[0m\u001b[1;33m.\u001b[0m\u001b[0mvals\u001b[0m\u001b[1;33m.\u001b[0m\u001b[0mremove\u001b[0m\u001b[1;33m(\u001b[0m\u001b[0me\u001b[0m\u001b[1;33m)\u001b[0m\u001b[1;33m\u001b[0m\u001b[1;33m\u001b[0m\u001b[0m\n\u001b[0m\u001b[0;32m     25\u001b[0m         \u001b[1;32mexcept\u001b[0m\u001b[1;33m:\u001b[0m\u001b[1;33m\u001b[0m\u001b[1;33m\u001b[0m\u001b[0m\n",
      "\u001b[1;31mValueError\u001b[0m: list.remove(x): x not in list",
      "\nDuring handling of the above exception, another exception occurred:\n",
      "\u001b[1;31mValueError\u001b[0m                                Traceback (most recent call last)",
      "\u001b[1;32m<ipython-input-76-c470139e6128>\u001b[0m in \u001b[0;36m<module>\u001b[1;34m\u001b[0m\n\u001b[0;32m     46\u001b[0m \u001b[0ms\u001b[0m\u001b[1;33m.\u001b[0m\u001b[0mremove\u001b[0m\u001b[1;33m(\u001b[0m\u001b[1;36m3\u001b[0m\u001b[1;33m)\u001b[0m\u001b[1;33m\u001b[0m\u001b[1;33m\u001b[0m\u001b[0m\n\u001b[0;32m     47\u001b[0m \u001b[0mprint\u001b[0m\u001b[1;33m(\u001b[0m\u001b[0ms\u001b[0m\u001b[1;33m)\u001b[0m\u001b[1;33m\u001b[0m\u001b[1;33m\u001b[0m\u001b[0m\n\u001b[1;32m---> 48\u001b[1;33m \u001b[0ms\u001b[0m\u001b[1;33m.\u001b[0m\u001b[0mremove\u001b[0m\u001b[1;33m(\u001b[0m\u001b[1;36m3\u001b[0m\u001b[1;33m)\u001b[0m\u001b[1;33m\u001b[0m\u001b[1;33m\u001b[0m\u001b[0m\n\u001b[0m",
      "\u001b[1;32m<ipython-input-76-c470139e6128>\u001b[0m in \u001b[0;36mremove\u001b[1;34m(self, e)\u001b[0m\n\u001b[0;32m     24\u001b[0m             \u001b[0mself\u001b[0m\u001b[1;33m.\u001b[0m\u001b[0mvals\u001b[0m\u001b[1;33m.\u001b[0m\u001b[0mremove\u001b[0m\u001b[1;33m(\u001b[0m\u001b[0me\u001b[0m\u001b[1;33m)\u001b[0m\u001b[1;33m\u001b[0m\u001b[1;33m\u001b[0m\u001b[0m\n\u001b[0;32m     25\u001b[0m         \u001b[1;32mexcept\u001b[0m\u001b[1;33m:\u001b[0m\u001b[1;33m\u001b[0m\u001b[1;33m\u001b[0m\u001b[0m\n\u001b[1;32m---> 26\u001b[1;33m             \u001b[1;32mraise\u001b[0m \u001b[0mValueError\u001b[0m\u001b[1;33m(\u001b[0m\u001b[0mstr\u001b[0m\u001b[1;33m(\u001b[0m\u001b[0me\u001b[0m\u001b[1;33m)\u001b[0m \u001b[1;33m+\u001b[0m \u001b[1;34m' not found'\u001b[0m\u001b[1;33m)\u001b[0m\u001b[1;33m\u001b[0m\u001b[1;33m\u001b[0m\u001b[0m\n\u001b[0m\u001b[0;32m     27\u001b[0m \u001b[1;33m\u001b[0m\u001b[0m\n\u001b[0;32m     28\u001b[0m     \u001b[1;32mdef\u001b[0m \u001b[0m__str__\u001b[0m\u001b[1;33m(\u001b[0m\u001b[0mself\u001b[0m\u001b[1;33m)\u001b[0m\u001b[1;33m:\u001b[0m\u001b[1;33m\u001b[0m\u001b[1;33m\u001b[0m\u001b[0m\n",
      "\u001b[1;31mValueError\u001b[0m: 3 not found"
     ]
    }
   ],
   "source": [
    "class intSet(object):\n",
    "    \"\"\"An intSet is a set of integers\n",
    "    The value is represented by a list of ints, self.vals.\n",
    "    Each int in the set occurs in self.vals exactly once.\"\"\"\n",
    "\n",
    "    def __init__(self):\n",
    "        \"\"\"Create an empty set of integers\"\"\"\n",
    "        self.vals = []\n",
    "\n",
    "    def insert(self, e):\n",
    "        \"\"\"Assumes e is an integer and inserts e into self\"\"\"\n",
    "        if not e in self.vals:\n",
    "            self.vals.append(e)\n",
    "\n",
    "    def member(self, e):\n",
    "        \"\"\"Assumes e is an integer\n",
    "        Returns True if e is in self, and False otherwise\"\"\"\n",
    "        return e in self.vals\n",
    "\n",
    "    def remove(self, e):\n",
    "        \"\"\"Assumes e is an integer and removes e from self\n",
    "        Raises ValueError if e is not in self\"\"\"\n",
    "        try:\n",
    "            self.vals.remove(e)\n",
    "        except:\n",
    "            raise ValueError(str(e) + ' not found')\n",
    "\n",
    "    def __str__(self):\n",
    "        \"\"\"Returns a string representation of self\"\"\"\n",
    "        self.vals.sort()\n",
    "        result = ''\n",
    "        for e in self.vals:\n",
    "            result = result + str(e) + ','\n",
    "        return '{' + result[:-1] + '}'\n",
    "\n",
    "s = intSet()\n",
    "print(s)\n",
    "s.insert(3)\n",
    "s.insert(4)\n",
    "s.insert(3)\n",
    "print(s)\n",
    "print(s.member(3))\n",
    "print(s.member(5))\n",
    "s.insert(6)\n",
    "print(s)\n",
    "s.remove(3)\n",
    "print(s)\n",
    "s.remove(3)"
   ]
  },
  {
   "cell_type": "markdown",
   "metadata": {},
   "source": [
    "%%latex \n",
    "\\newpage"
   ]
  },
  {
   "cell_type": "markdown",
   "metadata": {},
   "source": [
    "# Video 5: Why OOP\n",
    "\n",
    "* Bundle together objects that share common attributes and procedures that operature on those attributes.\n",
    "\n",
    "* Use **abstraction** to make a distinction between how to implement an object vs how to use the object.\n",
    "\n",
    "* Build **layers** of object abstractions that inherit behaviors from other classes of objects.\n",
    "\n",
    "* Create our **own classes of objects** on top of Python's basic classes.\n",
    "\n",
    "---\n",
    "\n",
    "Two kinds of attributes a group of objects have:\n",
    "\n",
    "**Data attributes**\n",
    "\n",
    "* How can you represent your object with data?\n",
    "\n",
    "* What it is\n",
    "\n",
    "* For a coordinate: x and y values.\n",
    "\n",
    "* For an animal: age and name.\n",
    "\n",
    "**Procedural attributes**\n",
    "\n",
    "* What kinds of things can you do with the object?\n",
    "\n",
    "* What it does?\n",
    "\n",
    "* For a coordiante: find distance between two.\n",
    "\n",
    "* For an animal: make a sound.\n",
    "\n",
    "---\n",
    "\n",
    "Let's now build an animal."
   ]
  },
  {
   "cell_type": "code",
   "execution_count": 77,
   "metadata": {},
   "outputs": [
    {
     "name": "stdout",
     "output_type": "stream",
     "text": [
      "animal:None:3\n"
     ]
    }
   ],
   "source": [
    "class Animal(object):\n",
    "    def __init__(self, age):\n",
    "        # I can define other data attributes even if I don't pass them as parameters when creating an instance of this class.\n",
    "        self.age = age\n",
    "        self.name = None\n",
    "    # Getter methods\n",
    "    def get_age(self):\n",
    "        return self.age\n",
    "    def get_name(self):\n",
    "        return self.name\n",
    "    # Setter methods\n",
    "    def set_age(self, newage):\n",
    "        self.age = newage\n",
    "    # Very interesting! Default value for one of the parameters.\n",
    "    def set_name(self, newname=\"\"):\n",
    "        self.name = newname\n",
    "    def __str__(self):\n",
    "        return \"animal:\"+str(self.name)+\":\"+str(self.age)\n",
    "\n",
    "myAnimal = Animal(3)\n",
    "print(myAnimal)\n"
   ]
  },
  {
   "cell_type": "code",
   "execution_count": 78,
   "metadata": {},
   "outputs": [
    {
     "name": "stdout",
     "output_type": "stream",
     "text": [
      "animal:foobar:3\n"
     ]
    }
   ],
   "source": [
    "myAnimal.set_name('foobar')\n",
    "print(myAnimal)"
   ]
  },
  {
   "cell_type": "code",
   "execution_count": 79,
   "metadata": {},
   "outputs": [
    {
     "name": "stdout",
     "output_type": "stream",
     "text": [
      "Correct method\n",
      "3\n",
      "Incorrect method\n",
      "3\n"
     ]
    }
   ],
   "source": [
    "# This is how we should access the internal representation.\n",
    "print('Correct method')\n",
    "print(myAnimal.get_age())\n",
    "# This is another way - which we should NOT use.\n",
    "print('Incorrect method')\n",
    "print(myAnimal.age)"
   ]
  },
  {
   "cell_type": "markdown",
   "metadata": {},
   "source": [
    "One should **always use the getters** instead of accesing the data attributes directly:\n",
    "\n",
    "* Good style.\n",
    "\n",
    "* Easy to maintain code.\n",
    "\n",
    "* Prevents bugs. \n",
    "\n",
    "---\n",
    "\n",
    "**Python is not great at information hiding**\n",
    "\n",
    "* Allows you to access data from outside class definition.\n",
    "\n",
    "* Allows you to write to data from outside class definition.\n",
    "\n",
    "* Allows you to create data attributes for an instance from outside class definition. \n",
    "\n",
    "It's **not good style** to do any of these."
   ]
  },
  {
   "cell_type": "markdown",
   "metadata": {},
   "source": [
    "%%latex \n",
    "\\newpage"
   ]
  },
  {
   "cell_type": "markdown",
   "metadata": {},
   "source": [
    "# Video 6: Hierarchies\n",
    "\n",
    "* Parent class (superclass) - Animal.\n",
    "\n",
    "* Child class (subclass) - Person/Cat/Rabbit.\n",
    "\n",
    "    * Inherits all data and behaviors of parent class.\n",
    "    \n",
    "    * Add more info.\n",
    "    \n",
    "    * Add more behavior.\n",
    "    \n",
    "    * Override behavior.\n",
    "\n",
    "--- Example"
   ]
  },
  {
   "cell_type": "code",
   "execution_count": 80,
   "metadata": {},
   "outputs": [],
   "source": [
    "class Animal(object):\n",
    "    def __init__(self, age):\n",
    "        self.age = age\n",
    "        self.name = None\n",
    "    def get_age(self):\n",
    "        return self.age\n",
    "    def get_name(self):\n",
    "        return self.name\n",
    "    def set_age(self, newage):\n",
    "        self.age = newage\n",
    "    def set_name(self, newname=\"\"):\n",
    "        self.name = newname\n",
    "    def __str__(self):\n",
    "        return \"animal:\"+str(self.name)+\":\"+str(self.age)\n",
    "\n",
    "# Inherits all attributes of Animal\n",
    "# Add new functionality through new methods\n",
    "# Override the __str__ method to identify an instance of this class as a Cat and not just any Animal.\n",
    "class Cat(Animal):\n",
    "    def speak(self):\n",
    "        print(\"meow\")\n",
    "    def __str__(self):\n",
    "        return \"cat:\"+str(self.name)+\":\"+str(self.age)\n",
    "        \n",
    "class Rabbit(Animal):\n",
    "    def speak(self):\n",
    "        print(\"meep\")\n",
    "    def __str__(self):\n",
    "        return \"rabbit:\"+str(self.name)+\":\"+str(self.age)\n",
    "        \n",
    "class Person(Animal):\n",
    "    def __init__(self, name, age):\n",
    "        Animal.__init__(self, age)\n",
    "        Animal.set_name(self, name)\n",
    "        self.friends = []\n",
    "    def get_friends(self):\n",
    "        return self.friends\n",
    "    def add_friend(self, fname):\n",
    "        if fname not in self.friends:\n",
    "            self.friends.append(fname)\n",
    "    def speak(self):\n",
    "        print(\"hello\")\n",
    "    def age_diff(self, other):\n",
    "        # alternate way: diff = self.age - other.age\n",
    "        diff = self.get_age() - other.get_age()\n",
    "        if self.age > other.age:\n",
    "            print(self.name, \"is\", diff, \"years older than\", other.name)\n",
    "        else:\n",
    "            print(self.name, \"is\", -diff, \"years younger than\", other.name)\n",
    "    def __str__(self):\n",
    "        return \"person:\"+str(self.name)+\":\"+str(self.age)"
   ]
  },
  {
   "cell_type": "code",
   "execution_count": 81,
   "metadata": {},
   "outputs": [],
   "source": [
    "# Examples of using this new information\n",
    "jelly = Cat(1)\n",
    "jelly.get_name()"
   ]
  },
  {
   "cell_type": "code",
   "execution_count": 82,
   "metadata": {},
   "outputs": [
    {
     "data": {
      "text/plain": [
       "'JellyBelly'"
      ]
     },
     "execution_count": 82,
     "metadata": {},
     "output_type": "execute_result"
    }
   ],
   "source": [
    "jelly.set_name('JellyBelly')\n",
    "jelly.get_name()"
   ]
  },
  {
   "cell_type": "code",
   "execution_count": 83,
   "metadata": {},
   "outputs": [
    {
     "name": "stdout",
     "output_type": "stream",
     "text": [
      "cat:JellyBelly:1\n"
     ]
    }
   ],
   "source": [
    "print(jelly)"
   ]
  },
  {
   "cell_type": "code",
   "execution_count": 84,
   "metadata": {},
   "outputs": [
    {
     "name": "stdout",
     "output_type": "stream",
     "text": [
      "animal:JellyBelly:1\n"
     ]
    }
   ],
   "source": [
    "print(Animal.__str__(jelly))"
   ]
  },
  {
   "cell_type": "code",
   "execution_count": 85,
   "metadata": {},
   "outputs": [
    {
     "name": "stdout",
     "output_type": "stream",
     "text": [
      "meow\n"
     ]
    }
   ],
   "source": [
    "# Python looks for the definition of speak inside Cat, because jelly is an instance of Cat.\n",
    "jelly.speak()"
   ]
  },
  {
   "cell_type": "markdown",
   "metadata": {},
   "source": [
    "While a subclass inherits all methods from upper parts of the hierarchy, the superclass can't access the methods from the lower parts of the hierarchy.\n",
    "\n",
    "---\n",
    "\n",
    "Which method to use?\n",
    "\n",
    "* Subclass can have methods with same name as superclass.\n",
    "\n",
    "* Subclass can have methods with same name as other subclasses.\n",
    "\n",
    "* For an instance of a class, look for a method name in current class definition.\n",
    "\n",
    "* If not found, look for a method name up the hierarchy.\n",
    "\n",
    "* Use first method up the hierarchy that you found with that method name."
   ]
  },
  {
   "cell_type": "markdown",
   "metadata": {},
   "source": [
    "%%latex \n",
    "\\newpage"
   ]
  },
  {
   "cell_type": "markdown",
   "metadata": {},
   "source": [
    "# Video 7: Class Variables\n",
    "\n",
    "* Different from an instance variable (which is what we normally use, or have used so far).\n",
    "\n",
    "Let's see them with an example"
   ]
  },
  {
   "cell_type": "code",
   "execution_count": 86,
   "metadata": {},
   "outputs": [],
   "source": [
    "class Animal(object):\n",
    "    # These are instance variables\n",
    "    def __init__(self, age):\n",
    "        self.age = age\n",
    "        self.name = None\n",
    "    def get_age(self):\n",
    "        return self.age\n",
    "    def get_name(self):\n",
    "        return self.name\n",
    "    def set_age(self, newage):\n",
    "        self.age = newage\n",
    "    def set_name(self, newname=\"\"):\n",
    "        self.name = newname\n",
    "    def __str__(self):\n",
    "        return \"animal:\"+str(self.name)+\":\"+str(self.age)\n",
    "# New code\n",
    "class Rabbit(Animal):\n",
    "    # Class variable - OUTSIDE of the init definition.\n",
    "    tag = 1\n",
    "    def __init__(self, age, parent1=None, parent2=None):\n",
    "        Animal.__init__(self, age)\n",
    "        self.parent1 = parent1\n",
    "        self.parent2 = parent2\n",
    "        self.rid = Rabbit.tag\n",
    "        # This is the part that changes the class variable over and over.\n",
    "        Rabbit.tag += 1\n",
    "    def get_rid(self):\n",
    "        # Technique to make sure all numbers are the same size.\n",
    "        return str(self.rid).zfill(3)\n",
    "    def get_parent1(self):\n",
    "        return self.parent1\n",
    "    def get_parent2(self):\n",
    "        return self.parent2\n",
    "    def __add__(self, other):\n",
    "        # returning object of same type as this class\n",
    "        # This is using the __init__ definition of the Rabbit class. So age, parent1, parent2.\n",
    "        return Rabbit(0, self, other)        \n",
    "    def __eq__(self, other):\n",
    "        parents_same = self.parent1.rid == other.parent1.rid \\\n",
    "                       and self.parent2.rid == other.parent2.rid\n",
    "        parents_opposite = self.parent2.rid == other.parent1.rid \\\n",
    "                       and self.parent1.rid == other.parent2.rid\n",
    "        return parents_same or parents_opposite"
   ]
  },
  {
   "cell_type": "markdown",
   "metadata": {},
   "source": [
    "The class is keeping track of the tag, and every time I create a new instance of a Rabbit object, it'll receive a unique ID, the latest value. \n",
    "\n",
    "* rid is an instance variable.\n",
    "\n",
    "* tag is a class variable.\n",
    "\n",
    "---\n",
    "\n",
    "**Addition procedure**\n",
    "\n",
    "* Allows for r4 = r1 + r2, where r1 and r2 are Rabbit instances.\n",
    "\n",
    "* f4 is a new Rabbit instance with age 0.\n",
    "\n",
    "* r4 has self as one parent, and other as the other parent.\n",
    "\n",
    "* In __init__, should change to check that parent1 and parent2 are of type Rabbit."
   ]
  },
  {
   "cell_type": "markdown",
   "metadata": {},
   "source": [
    "%%latex \n",
    "\\newpage"
   ]
  },
  {
   "cell_type": "markdown",
   "metadata": {},
   "source": [
    "# Video 8: Building a Class\n",
    "\n",
    "* Explore in some detail an example of building an application that organizes info about people."
   ]
  },
  {
   "cell_type": "code",
   "execution_count": 87,
   "metadata": {},
   "outputs": [],
   "source": [
    "# Use it to calculate age\n",
    "import datetime\n",
    "\n",
    "class Person(object):\n",
    "    def __init__(self, name):\n",
    "        \"\"\"create a person called name\"\"\"\n",
    "        self.name = name\n",
    "        self.birthday = None\n",
    "        # Name is a string, so split into a list of strings based on spaces, then extract last element.\n",
    "        self.lastName = name.split(' ')[-1]\n",
    "        \n",
    "    def setBirthday(self,month,day,year):\n",
    "        \"\"\"sets self's birthday to birthDate\"\"\"\n",
    "        self.birthday = datetime.date(year,month,day)\n",
    "\n",
    "    def getAge(self):\n",
    "        \"\"\"returns self's current age in days\"\"\"\n",
    "        if self.birthday == None:\n",
    "            raise ValueError\n",
    "        return (datetime.date.today() - self.birthday).days\n",
    "    \n",
    "    def getLastName(self):\n",
    "        \"\"\"return self's last name\"\"\"\n",
    "        return self.lastName\n",
    "\n",
    "    def __str__(self):\n",
    "        \"\"\"return self's name\"\"\"\n",
    "        return self.name\n",
    "    \n",
    "    def __lt__(self, other):\n",
    "        \"\"\"return True if self's ame is lexicographically\n",
    "       less than other's name, and False otherwise\"\"\"\n",
    "        if self.lastName == other.lastName:\n",
    "            return self.name < other.name\n",
    "        return self.lastName < other.lastName"
   ]
  },
  {
   "cell_type": "code",
   "execution_count": 88,
   "metadata": {},
   "outputs": [
    {
     "name": "stdout",
     "output_type": "stream",
     "text": [
      "Mark Zuckerberg\n",
      "Drew Houston\n",
      "Bill Gates\n",
      "Andrew Gates\n",
      "Steve Wozniak\n"
     ]
    }
   ],
   "source": [
    "# example usage\n",
    "\n",
    "p1 = Person('Mark Zuckerberg')\n",
    "p1.setBirthday(5,14,84)\n",
    "p2 = Person('Drew Houston')\n",
    "p2.setBirthday(3,4,83)\n",
    "p3 = Person('Bill Gates')\n",
    "p3.setBirthday(10,28,55)\n",
    "p4 = Person('Andrew Gates')\n",
    "p5 = Person('Steve Wozniak')\n",
    "\n",
    "personList = [p1, p2, p3, p4, p5]\n",
    "\n",
    "for e in personList:\n",
    "    print(e)"
   ]
  },
  {
   "cell_type": "code",
   "execution_count": 89,
   "metadata": {},
   "outputs": [
    {
     "name": "stdout",
     "output_type": "stream",
     "text": [
      "Andrew Gates\n",
      "Bill Gates\n",
      "Drew Houston\n",
      "Steve Wozniak\n",
      "Mark Zuckerberg\n"
     ]
    }
   ],
   "source": [
    "personList.sort()\n",
    "for e in personList:\n",
    "    print(e)"
   ]
  },
  {
   "cell_type": "markdown",
   "metadata": {},
   "source": [
    "%%latex \n",
    "\\newpage"
   ]
  },
  {
   "cell_type": "markdown",
   "metadata": {},
   "source": [
    "# Video 9: Visualizing the Hierarchy\n",
    "\n",
    "Let's define a subclass of the Person class - an MIT person."
   ]
  },
  {
   "cell_type": "code",
   "execution_count": 90,
   "metadata": {},
   "outputs": [
    {
     "name": "stdout",
     "output_type": "stream",
     "text": [
      "Mark Zuckerberg\n",
      "Gates says: hi there\n"
     ]
    }
   ],
   "source": [
    "class MITPerson(Person):\n",
    "    # Class attribute\n",
    "    nextIdNum = 0 # next ID number to assign\n",
    "\n",
    "    def __init__(self, name):\n",
    "        # Using the person class initialization - no need to reinvent the wheel!\n",
    "        Person.__init__(self, name) # initialize Person attributes\n",
    "        # new MITPerson attribute: a unique ID number\n",
    "        self.idNum = MITPerson.nextIdNum\n",
    "        MITPerson.nextIdNum += 1\n",
    "\n",
    "    def getIdNum(self):\n",
    "        return self.idNum\n",
    "\n",
    "    # sorting MIT people uses their ID number, not name!\n",
    "    def __lt__(self, other):\n",
    "        return self.idNum < other.idNum\n",
    "    \n",
    "    def speak(self, utterance):\n",
    "        return (self.getLastName() + \" says: \" + utterance)\n",
    "\n",
    "m3 = MITPerson('Mark Zuckerberg')\n",
    "Person.setBirthday(m3,5,14,84)\n",
    "m2 = MITPerson('Drew Houston')\n",
    "Person.setBirthday(m2,3,4,83)\n",
    "m1 = MITPerson('Bill Gates')\n",
    "Person.setBirthday(m1,10,28,55)\n",
    "\n",
    "MITPersonList = [m1, m2, m3]\n",
    "print(m3)\n",
    "print(m1.speak('hi there'))"
   ]
  },
  {
   "cell_type": "code",
   "execution_count": 91,
   "metadata": {},
   "outputs": [
    {
     "name": "stdout",
     "output_type": "stream",
     "text": [
      "Bill Gates\n",
      "Drew Houston\n",
      "Mark Zuckerberg\n"
     ]
    }
   ],
   "source": [
    "for e in MITPersonList:\n",
    "    print(e)"
   ]
  },
  {
   "cell_type": "code",
   "execution_count": 92,
   "metadata": {},
   "outputs": [
    {
     "name": "stdout",
     "output_type": "stream",
     "text": [
      "Bill Gates\n",
      "Drew Houston\n",
      "Mark Zuckerberg\n"
     ]
    }
   ],
   "source": [
    "# Sorting by ID\n",
    "personList.sort()\n",
    "\n",
    "for e in MITPersonList:\n",
    "    print(e)"
   ]
  },
  {
   "cell_type": "code",
   "execution_count": 93,
   "metadata": {},
   "outputs": [
    {
     "data": {
      "text/plain": [
       "True"
      ]
     },
     "execution_count": 93,
     "metadata": {},
     "output_type": "execute_result"
    }
   ],
   "source": [
    "# MITPerson have IDs, no problem comparing them.\n",
    "p1 =  MITPerson('Eric')\n",
    "p2 = MITPerson('John')\n",
    "p3 = MITPerson('John')\n",
    "# Not an MITPerson, does not have an ID number!\n",
    "p4 = Person('John')\n",
    "\n",
    "p1<p2"
   ]
  },
  {
   "cell_type": "code",
   "execution_count": 94,
   "metadata": {},
   "outputs": [
    {
     "ename": "AttributeError",
     "evalue": "'Person' object has no attribute 'idNum'",
     "output_type": "error",
     "traceback": [
      "\u001b[1;31m---------------------------------------------------------------------------\u001b[0m",
      "\u001b[1;31mAttributeError\u001b[0m                            Traceback (most recent call last)",
      "\u001b[1;32m<ipython-input-94-e4b6153c0891>\u001b[0m in \u001b[0;36m<module>\u001b[1;34m\u001b[0m\n\u001b[1;32m----> 1\u001b[1;33m \u001b[0mp1\u001b[0m\u001b[1;33m<\u001b[0m\u001b[0mp4\u001b[0m\u001b[1;33m\u001b[0m\u001b[1;33m\u001b[0m\u001b[0m\n\u001b[0m",
      "\u001b[1;32m<ipython-input-90-d8c6494e3657>\u001b[0m in \u001b[0;36m__lt__\u001b[1;34m(self, other)\u001b[0m\n\u001b[0;32m     15\u001b[0m     \u001b[1;31m# sorting MIT people uses their ID number, not name!\u001b[0m\u001b[1;33m\u001b[0m\u001b[1;33m\u001b[0m\u001b[1;33m\u001b[0m\u001b[0m\n\u001b[0;32m     16\u001b[0m     \u001b[1;32mdef\u001b[0m \u001b[0m__lt__\u001b[0m\u001b[1;33m(\u001b[0m\u001b[0mself\u001b[0m\u001b[1;33m,\u001b[0m \u001b[0mother\u001b[0m\u001b[1;33m)\u001b[0m\u001b[1;33m:\u001b[0m\u001b[1;33m\u001b[0m\u001b[1;33m\u001b[0m\u001b[0m\n\u001b[1;32m---> 17\u001b[1;33m         \u001b[1;32mreturn\u001b[0m \u001b[0mself\u001b[0m\u001b[1;33m.\u001b[0m\u001b[0midNum\u001b[0m \u001b[1;33m<\u001b[0m \u001b[0mother\u001b[0m\u001b[1;33m.\u001b[0m\u001b[0midNum\u001b[0m\u001b[1;33m\u001b[0m\u001b[1;33m\u001b[0m\u001b[0m\n\u001b[0m\u001b[0;32m     18\u001b[0m \u001b[1;33m\u001b[0m\u001b[0m\n\u001b[0;32m     19\u001b[0m     \u001b[1;32mdef\u001b[0m \u001b[0mspeak\u001b[0m\u001b[1;33m(\u001b[0m\u001b[0mself\u001b[0m\u001b[1;33m,\u001b[0m \u001b[0mutterance\u001b[0m\u001b[1;33m)\u001b[0m\u001b[1;33m:\u001b[0m\u001b[1;33m\u001b[0m\u001b[1;33m\u001b[0m\u001b[0m\n",
      "\u001b[1;31mAttributeError\u001b[0m: 'Person' object has no attribute 'idNum'"
     ]
    }
   ],
   "source": [
    "p1<p4"
   ]
  },
  {
   "cell_type": "code",
   "execution_count": null,
   "metadata": {},
   "outputs": [],
   "source": [
    "p1>p4"
   ]
  },
  {
   "cell_type": "markdown",
   "metadata": {},
   "source": [
    "**Why does p4 < p1 work but p4 > p1 doesn't?**\n",
    "\n",
    "* p4 < p1 is equivalent to p4.__lt__(p1) which means use the __lt__ method associated with the type of p4, namely a Person.\n",
    "\n",
    "* p1 < p4 is equivalent to p1.__lt__(p4) which means we use the __lt__ method associated with the type of p1, namely an MITPerson and since p4 is a Person, it does not have an IDNum. "
   ]
  },
  {
   "cell_type": "markdown",
   "metadata": {},
   "source": [
    "%%latex \n",
    "\\newpage"
   ]
  },
  {
   "cell_type": "markdown",
   "metadata": {},
   "source": [
    "# Video 10: Adding another class\n",
    "\n",
    "We keep creating classes"
   ]
  },
  {
   "cell_type": "code",
   "execution_count": 95,
   "metadata": {},
   "outputs": [
    {
     "name": "stdout",
     "output_type": "stream",
     "text": [
      "Matt Damon\n",
      "2017\n",
      "Damon says:  Dude, where is the quiz?\n",
      "Affleck says:  Dude, I have no clue!\n"
     ]
    }
   ],
   "source": [
    "class UG(MITPerson):\n",
    "    def __init__(self, name, classYear):\n",
    "        # Use the inherited method from the MITPerson class. \n",
    "        MITPerson.__init__(self, name)\n",
    "        self.year = classYear\n",
    "\n",
    "    def getClass(self):\n",
    "        return self.year\n",
    "    \n",
    "    def speak(self, utterance):\n",
    "        # Use the same from MITPerson, but adding something!\n",
    "        return MITPerson.speak(self, \" Dude, \" + utterance)\n",
    "\n",
    "class Grad(MITPerson):\n",
    "    pass\n",
    "\n",
    "def isStudent(obj):\n",
    "    return isinstance(obj,UG) or isinstance(obj,Grad)\n",
    "\n",
    "s1 = UG('Matt Damon', 2017)\n",
    "s2 = UG('Ben Affleck', 2017)\n",
    "s3 = UG('Lin Manuel Miranda', 2018)\n",
    "s4 = Grad('Leonardo di Caprio')\n",
    "\n",
    "studentList = [s1, s2, s3, s4]\n",
    "\n",
    "print(s1)\n",
    "print(s1.getClass())\n",
    "print(s1.speak('where is the quiz?'))\n",
    "print(s2.speak('I have no clue!'))"
   ]
  },
  {
   "cell_type": "markdown",
   "metadata": {},
   "source": [
    "Suppose we now want to create another class of students, a transfer student. But in order to modify the isStudent method, I'd need to change some things. So let's look at this possibility."
   ]
  },
  {
   "cell_type": "code",
   "execution_count": 96,
   "metadata": {},
   "outputs": [
    {
     "name": "stdout",
     "output_type": "stream",
     "text": [
      "Matt Damon\n",
      "2017\n",
      "Damon says:  Dude, where is the quiz?\n",
      "Affleck says:  Dude, I have no clue!\n"
     ]
    }
   ],
   "source": [
    "# Create a superclass that covers all students\n",
    "class Student(MITPerson):\n",
    "    # Pass is a special keyword\n",
    "    pass\n",
    "\n",
    "class UG(Student):\n",
    "    def __init__(self, name, classYear):\n",
    "        MITPerson.__init__(self, name)\n",
    "        self.year = classYear\n",
    "\n",
    "    def getClass(self):\n",
    "        return self.year\n",
    "        \n",
    "    def speak(self, utterance):\n",
    "        return MITPerson.speak(self, \" Dude, \" + utterance)\n",
    "\n",
    "class Grad(Student):\n",
    "    pass\n",
    "\n",
    "class TransferStudent(Student):\n",
    "    pass\n",
    "\n",
    "def isStudent(obj):\n",
    "    return isinstance(obj,Student)\n",
    "    \n",
    "s1 = UG('Matt Damon', 2017)\n",
    "s2 = UG('Ben Affleck', 2017)\n",
    "s3 = UG('Lin Manuel Miranda', 2018)\n",
    "s4 = Grad('Leonardo di Caprio')\n",
    "s5 = TransferStudent('Robert deNiro')\n",
    "\n",
    "studentList = [s1, s2, s3, s4, s5]\n",
    "\n",
    "print(s1)\n",
    "print(s1.getClass())\n",
    "print(s1.speak('where is the quiz?'))\n",
    "print(s2.speak('I have no clue!'))"
   ]
  },
  {
   "cell_type": "markdown",
   "metadata": {},
   "source": [
    "**Substitution principle:** Important behaviors of superclass should be supported by all subclasses.\n",
    "\n",
    "In this case, Student was created in order to make all the subclasses (UG, grad and transfer) support the behaviors from the main Student class."
   ]
  },
  {
   "cell_type": "markdown",
   "metadata": {},
   "source": [
    "%%latex \n",
    "\\newpage"
   ]
  },
  {
   "cell_type": "markdown",
   "metadata": {},
   "source": [
    "# Video 11: Using Inherited Methods\n",
    "\n",
    "This time we create yet another class."
   ]
  },
  {
   "cell_type": "code",
   "execution_count": 97,
   "metadata": {},
   "outputs": [],
   "source": [
    "class Professor(MITPerson):\n",
    "    def __init__(self, name, department):\n",
    "        MITPerson.__init__(self, name)\n",
    "        self.department = department\n",
    "        \n",
    "    def speak(self, utterance):\n",
    "        # This will shadow MITPerson speak method\n",
    "        newUtterance = 'In course ' + self.department + ' we say '\n",
    "        return MITPerson.speak(self, newUtterance + utterance)\n",
    "        \n",
    "    def lecture(self, topic):\n",
    "        # Uses own speak method, not MITPerson's\n",
    "        return self.speak('it is obvious that ' + topic)        \n",
    "\n",
    "faculty = Professor('Doctor Arrogant', 'six')"
   ]
  },
  {
   "cell_type": "code",
   "execution_count": 98,
   "metadata": {},
   "outputs": [
    {
     "name": "stdout",
     "output_type": "stream",
     "text": [
      "Damon says:  Dude, I have no idea\n"
     ]
    }
   ],
   "source": [
    "print(s1.speak('I have no idea'))"
   ]
  },
  {
   "cell_type": "code",
   "execution_count": 99,
   "metadata": {},
   "outputs": [
    {
     "name": "stdout",
     "output_type": "stream",
     "text": [
      "Gates says: Hey there\n"
     ]
    }
   ],
   "source": [
    "print(m1.speak('Hey there'))"
   ]
  },
  {
   "cell_type": "code",
   "execution_count": 100,
   "metadata": {},
   "outputs": [
    {
     "name": "stdout",
     "output_type": "stream",
     "text": [
      "Arrogant says: In course six we say hi there\n"
     ]
    }
   ],
   "source": [
    "# Uses Professor speak method, which uses MITPerson method\n",
    "print(faculty.speak('hi there'))"
   ]
  },
  {
   "cell_type": "code",
   "execution_count": 101,
   "metadata": {},
   "outputs": [
    {
     "name": "stdout",
     "output_type": "stream",
     "text": [
      "Arrogant says: In course six we say it is obvious that hi there\n"
     ]
    }
   ],
   "source": [
    "# Uses Professor speak method\n",
    "print(faculty.lecture('hi there'))"
   ]
  },
  {
   "cell_type": "markdown",
   "metadata": {},
   "source": [
    "Let's now change the original MITPerson class."
   ]
  },
  {
   "cell_type": "code",
   "execution_count": 102,
   "metadata": {},
   "outputs": [
    {
     "name": "stdout",
     "output_type": "stream",
     "text": [
      "Matt Damon\n",
      "2017\n",
      "Matt Damon says:  Dude, where is the quiz?\n",
      "Ben Affleck says:  Dude, I have no clue!\n",
      "Doctor Arrogant says: In course six we say it is obvious that hi there\n"
     ]
    }
   ],
   "source": [
    "class MITPerson(Person):\n",
    "    nextIdNum = 0 # next ID number to assign\n",
    "\n",
    "    def __init__(self, name):\n",
    "        Person.__init__(self, name) # initialize Person attributes\n",
    "        # new MITPerson attribute: a unique ID number\n",
    "        self.idNum = MITPerson.nextIdNum\n",
    "        MITPerson.nextIdNum += 1\n",
    "\n",
    "    def getIdNum(self):\n",
    "        return self.idNum\n",
    "\n",
    "    # sorting MIT people uses their ID number, not name!\n",
    "    def __lt__(self, other):\n",
    "        return self.idNum < other.idNum\n",
    "        \n",
    "    def speak(self, utterance):\n",
    "        return (self.name + \" says: \" + utterance)\n",
    "        \n",
    "class Student(MITPerson):\n",
    "    pass\n",
    "\n",
    "class UG(Student):\n",
    "    def __init__(self, name, classYear):\n",
    "        MITPerson.__init__(self, name)\n",
    "        self.year = classYear\n",
    "\n",
    "    def getClass(self):\n",
    "        return self.year\n",
    "        \n",
    "    def speak(self, utterance):\n",
    "        return MITPerson.speak(self, \" Dude, \" + utterance)\n",
    "\n",
    "class Grad(Student):\n",
    "    pass\n",
    "\n",
    "class TransferStudent(Student):\n",
    "    pass\n",
    "\n",
    "def isStudent(obj):\n",
    "    return isinstance(obj,Student)\n",
    "\n",
    "# Testing changes\n",
    "s1 = UG('Matt Damon', 2017)\n",
    "s2 = UG('Ben Affleck', 2017)\n",
    "s3 = UG('Lin Manuel Miranda', 2018)\n",
    "s4 = Grad('Leonardo di Caprio')\n",
    "s5 = TransferStudent('Robert deNiro')\n",
    "\n",
    "\n",
    "studentList = [s1, s2, s3, s4, s5]\n",
    "print(s1)\n",
    "print(s1.getClass())\n",
    "print(s1.speak('where is the quiz?'))\n",
    "print(s2.speak('I have no clue!'))\n",
    "print(faculty.lecture('hi there'))"
   ]
  },
  {
   "cell_type": "markdown",
   "metadata": {},
   "source": [
    "%%latex \n",
    "\\newpage"
   ]
  },
  {
   "cell_type": "markdown",
   "metadata": {},
   "source": [
    "%%latex \n",
    "\\newpage"
   ]
  },
  {
   "cell_type": "markdown",
   "metadata": {},
   "source": [
    "# Video 12: Gradebook Example\n",
    "\n",
    "Idea: create a class that includes instances of other classes within it."
   ]
  },
  {
   "cell_type": "code",
   "execution_count": 106,
   "metadata": {},
   "outputs": [],
   "source": [
    "class Grades(object):\n",
    "    \"\"\"A mapping from students to a list of grades\"\"\"\n",
    "    def __init__(self):\n",
    "        \"\"\"Create empty grade book\"\"\"\n",
    "        self.students = []  # list of Student objects\n",
    "        self.grades = {}    # maps idNum -> list of grades\n",
    "        self.isSorted = True # true if self.students is sorted\n",
    "        \n",
    "    def addStudent(self, student):\n",
    "        \"\"\"Assumes: student is of type Student\n",
    "           Add student to the grade book\"\"\"\n",
    "        if student in self.students:\n",
    "            raise ValueError('Duplicate student')\n",
    "        self.students.append(student)\n",
    "        self.grades[student.getIdNum()] = []\n",
    "        self.isSorted = False\n",
    "\n",
    "    def addGrade(self, student, grade):\n",
    "        \"\"\"Assumes: grade is a float\n",
    "           Add grade to the list of grades for student\"\"\"\n",
    "        try:\n",
    "            # Grades is a dictionary. Keys = IDs, Values = list of grades.\n",
    "            self.grades[student.getIdNum()].append(grade)\n",
    "        except KeyError:\n",
    "            raise ValueError('Student not in grade book')\n",
    "\n",
    "    def getGrades(self, student):\n",
    "        \"\"\"Return a list of grades for student\"\"\"\n",
    "        try:    # return copy of student's grades\n",
    "            return self.grades[student.getIdNum()][:]\n",
    "        except KeyError:\n",
    "            raise ValueError('Student not in grade book')\n",
    "\n",
    "    def allStudents(self):\n",
    "        \"\"\"Return a list of the students in the grade book\"\"\"\n",
    "        if not self.isSorted:\n",
    "            self.students.sort()\n",
    "            self.isSorted = True\n",
    "        return self.students[:] \n",
    "        #return copy of list of students\n",
    "        \n",
    "    def gradeReport(course):\n",
    "        \"\"\"Assumes: course if of type grades\"\"\"\n",
    "        report = []\n",
    "        for s in course.allStudents():\n",
    "            tot = 0.0\n",
    "            numGrades = 0\n",
    "            for g in course.getGrades(s):\n",
    "                tot += g\n",
    "                numGrades += 1\n",
    "            try:\n",
    "                average = tot/numGrades\n",
    "                report.append(str(s) + '\\'s mean grade is '\n",
    "                              + str(average))\n",
    "            except ZeroDivisionError:\n",
    "                report.append(str(s) + ' has no grades')\n",
    "        return '\\n'.join(report)\n",
    "\n",
    "# Loading the data\n",
    "ug1 = UG('Matt Damon', 2018)\n",
    "ug2 = UG('Ben Affleck', 2019)\n",
    "ug3 = UG('Drew Houston', 2017)\n",
    "ug4 = UG('Mark Zuckerberg', 2017)\n",
    "g1 = Grad('Bill Gates')\n",
    "g2 = Grad('Steve Wozniak')\n",
    "\n",
    "six00 = Grades()\n",
    "six00.addStudent(g1)\n",
    "six00.addStudent(ug2)\n",
    "six00.addStudent(ug1)\n",
    "six00.addStudent(g2)\n",
    "six00.addStudent(ug4)\n",
    "six00.addStudent(ug3)\n",
    "\n",
    "six00.addGrade(g1, 100)\n",
    "six00.addGrade(g2, 25)\n",
    "six00.addGrade(ug1, 95)\n",
    "six00.addGrade(ug2, 85)\n",
    "six00.addGrade(ug3, 75)"
   ]
  },
  {
   "cell_type": "markdown",
   "metadata": {},
   "source": [
    "%%latex \n",
    "\\newpage"
   ]
  },
  {
   "cell_type": "markdown",
   "metadata": {},
   "source": [
    "# Video 13: Generators\n",
    "\n",
    "An issue is raised: What if I don't (or don't want to) generate a copy of a huge list every single time I want to operate with it?\n",
    "\n",
    "The answer is **generators**.\n",
    "\n",
    "---\n",
    "\n",
    "Any procedure or method with a 'yield' statement inside it is called a generator. Generators have a next() method which starts/resumes execution of the procedure. Inside of generator:\n",
    "\n",
    "* Yield suspends execution and returns a value.\n",
    "\n",
    "* Returning from a generator raises a StopIteration exception. "
   ]
  },
  {
   "cell_type": "code",
   "execution_count": 1,
   "metadata": {},
   "outputs": [],
   "source": [
    "# Example\n",
    "def genTest():\n",
    "    yield 1\n",
    "    yield 2\n",
    "    \n",
    "foo = genTest()"
   ]
  },
  {
   "cell_type": "code",
   "execution_count": 2,
   "metadata": {},
   "outputs": [
    {
     "data": {
      "text/plain": [
       "1"
      ]
     },
     "execution_count": 2,
     "metadata": {},
     "output_type": "execute_result"
    }
   ],
   "source": [
    "foo.__next__()"
   ]
  },
  {
   "cell_type": "code",
   "execution_count": 3,
   "metadata": {},
   "outputs": [
    {
     "data": {
      "text/plain": [
       "2"
      ]
     },
     "execution_count": 3,
     "metadata": {},
     "output_type": "execute_result"
    }
   ],
   "source": [
    "foo.__next__()"
   ]
  },
  {
   "cell_type": "code",
   "execution_count": 4,
   "metadata": {},
   "outputs": [
    {
     "ename": "StopIteration",
     "evalue": "",
     "output_type": "error",
     "traceback": [
      "\u001b[1;31m---------------------------------------------------------------------------\u001b[0m",
      "\u001b[1;31mStopIteration\u001b[0m                             Traceback (most recent call last)",
      "\u001b[1;32m<ipython-input-4-5d994c17f9ca>\u001b[0m in \u001b[0;36m<module>\u001b[1;34m\u001b[0m\n\u001b[1;32m----> 1\u001b[1;33m \u001b[0mfoo\u001b[0m\u001b[1;33m.\u001b[0m\u001b[0m__next__\u001b[0m\u001b[1;33m(\u001b[0m\u001b[1;33m)\u001b[0m\u001b[1;33m\u001b[0m\u001b[1;33m\u001b[0m\u001b[0m\n\u001b[0m",
      "\u001b[1;31mStopIteration\u001b[0m: "
     ]
    }
   ],
   "source": [
    "foo.__next__()"
   ]
  },
  {
   "cell_type": "markdown",
   "metadata": {},
   "source": [
    "Execution will proceed in body of foo, until it reaches a yield statement; then returns value associated with the statement.\n",
    "\n",
    "**How to use this structure?**\n",
    "\n",
    "* Can use a generator inside a looping structure, as it will continue until it gets a StopIteration exception. "
   ]
  },
  {
   "cell_type": "code",
   "execution_count": 7,
   "metadata": {},
   "outputs": [],
   "source": [
    "def genFib():\n",
    "    fibn_1 = 1 #fib(n-1)\n",
    "    fibn_2 = 0 #fib(n-2)\n",
    "    while True:\n",
    "        # fib(n) = fib(n-1) + fib(n-2)\n",
    "        next = fibn_1 + fibn_2\n",
    "        yield next\n",
    "        fibn_2 = fibn_1\n",
    "        fibn_1 = next        "
   ]
  },
  {
   "cell_type": "code",
   "execution_count": 9,
   "metadata": {},
   "outputs": [
    {
     "data": {
      "text/plain": [
       "<generator object genFib at 0x000001356EB06448>"
      ]
     },
     "execution_count": 9,
     "metadata": {},
     "output_type": "execute_result"
    }
   ],
   "source": [
    "fib = genFib()\n",
    "fib"
   ]
  },
  {
   "cell_type": "code",
   "execution_count": 10,
   "metadata": {},
   "outputs": [
    {
     "data": {
      "text/plain": [
       "1"
      ]
     },
     "execution_count": 10,
     "metadata": {},
     "output_type": "execute_result"
    }
   ],
   "source": [
    "fib.__next__()"
   ]
  },
  {
   "cell_type": "code",
   "execution_count": 11,
   "metadata": {},
   "outputs": [
    {
     "data": {
      "text/plain": [
       "2"
      ]
     },
     "execution_count": 11,
     "metadata": {},
     "output_type": "execute_result"
    }
   ],
   "source": [
    "fib.__next__()"
   ]
  },
  {
   "cell_type": "code",
   "execution_count": 12,
   "metadata": {},
   "outputs": [
    {
     "data": {
      "text/plain": [
       "3"
      ]
     },
     "execution_count": 12,
     "metadata": {},
     "output_type": "execute_result"
    }
   ],
   "source": [
    "fib.__next__()"
   ]
  },
  {
   "cell_type": "code",
   "execution_count": 13,
   "metadata": {},
   "outputs": [
    {
     "data": {
      "text/plain": [
       "5"
      ]
     },
     "execution_count": 13,
     "metadata": {},
     "output_type": "execute_result"
    }
   ],
   "source": [
    "fib.__next__()"
   ]
  },
  {
   "cell_type": "code",
   "execution_count": 14,
   "metadata": {},
   "outputs": [
    {
     "data": {
      "text/plain": [
       "8"
      ]
     },
     "execution_count": 14,
     "metadata": {},
     "output_type": "execute_result"
    }
   ],
   "source": [
    "fib.__next__()"
   ]
  },
  {
   "cell_type": "markdown",
   "metadata": {},
   "source": [
    "**Why Generators?**\n",
    "\n",
    "* Generator separates the concept of computing a very long sequence of objects, from the actual process of computing them explicitly.\n",
    "\n",
    "* Allows one to generate each new object as needed as part of another computation (rather than computing a very long sequence, only to throw most of it away while you do something on an element, then repeating the process).\n",
    "\n",
    "* Have already seen this idea in range."
   ]
  }
 ],
 "metadata": {
  "kernelspec": {
   "display_name": "Python 3",
   "language": "python",
   "name": "python3"
  },
  "language_info": {
   "codemirror_mode": {
    "name": "ipython",
    "version": 3
   },
   "file_extension": ".py",
   "mimetype": "text/x-python",
   "name": "python",
   "nbconvert_exporter": "python",
   "pygments_lexer": "ipython3",
   "version": "3.7.6"
  }
 },
 "nbformat": 4,
 "nbformat_minor": 4
}

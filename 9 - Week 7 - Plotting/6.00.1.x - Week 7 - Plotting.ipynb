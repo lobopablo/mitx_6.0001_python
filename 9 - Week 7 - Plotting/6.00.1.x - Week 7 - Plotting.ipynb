{
 "cells": [
  {
   "cell_type": "markdown",
   "metadata": {},
   "source": [
    "# Video 1: Program Efficiency\n",
    "\n",
    "* Normally there is a trade off between **time and space** efficiency of a program.\n",
    "\n",
    "* For the most part, we will focus on time efficiency.\n",
    "\n",
    "---\n",
    "\n",
    "* While there are many ways to implement a program, there are only a handful of algorithms that can solve a given problem. \n",
    "\n",
    "---\n",
    "\n",
    "**How can I evaluate efficiency?**\n",
    "\n",
    "* Measure with a timer.\n",
    "\n",
    "* Count the operations.\n",
    "\n",
    "* Abstract notion of **order of growth**. This is the most appropriate way of assessing the impact of choices of algorithm in solving a problem.\n",
    "\n",
    "---\n",
    "\n",
    "**Timing a program**"
   ]
  },
  {
   "cell_type": "code",
   "execution_count": 8,
   "metadata": {},
   "outputs": [
    {
     "name": "stdout",
     "output_type": "stream",
     "text": [
      "t = 1512.6299181 : 0.00010560000009718351 s,\n"
     ]
    },
    {
     "name": "stderr",
     "output_type": "stream",
     "text": [
      "C:\\Users\\pablo\\anaconda3\\lib\\site-packages\\ipykernel_launcher.py:4: DeprecationWarning: time.clock has been deprecated in Python 3.3 and will be removed from Python 3.8: use time.perf_counter or time.process_time instead\n",
      "  after removing the cwd from sys.path.\n",
      "C:\\Users\\pablo\\anaconda3\\lib\\site-packages\\ipykernel_launcher.py:6: DeprecationWarning: time.clock has been deprecated in Python 3.3 and will be removed from Python 3.8: use time.perf_counter or time.process_time instead\n",
      "  \n"
     ]
    }
   ],
   "source": [
    "import time\n",
    "def c_to_f(c):\n",
    "    return c*9/5 + 32\n",
    "t0 = time.clock()\n",
    "c_to_f(100000)\n",
    "t1 = time.clock() - t0\n",
    "print('t =', t0, ':', t1, 's,')"
   ]
  },
  {
   "cell_type": "markdown",
   "metadata": {},
   "source": [
    "**Problems with this idea**\n",
    "\n",
    "* Time varies between algorithms.\n",
    "\n",
    "* Time varies between implementations.\n",
    "\n",
    "* Time varies between computers.\n",
    "\n",
    "* Time is not predictable based on small inputs.\n",
    "\n",
    "* Time varies for different inputs but cannot really express a relationship between inputs and time.\n",
    "\n",
    "---\n",
    "\n",
    "**Counting operations**\n",
    "\n",
    "* Assume certain steps (comparisons, assignments, accesing objects in memory, etc.) take a constant time.\n",
    "\n",
    "* Then count the number of operations executed as function of size on input.\n",
    "\n",
    "**Problems with this idea**\n",
    "\n",
    "* Count depends on implementations.\n",
    "\n",
    "* No real definition of which operations to count.\n",
    "\n",
    "---\n",
    "\n",
    "**What would I like to do?**\n",
    "\n",
    "* I want to evaluate algorithm.\n",
    "\n",
    "* I want to evaluate scalability.\n",
    "\n",
    "* I want to evaluate in terms of input size.\n",
    "\n",
    "---\n",
    "\n",
    "* When choosing which case we'll study, we'll normally pick the worst case scenario. \n",
    "\n",
    "---\n",
    "\n",
    "**Goals**\n",
    "\n",
    "* Evaluate efficiency when input is big.\n",
    "\n",
    "* Express the growth of program's run time as input size grows.\n",
    "\n",
    "* I want to put an upper bound on growth.\n",
    "\n",
    "* I do not need to be precise: an order of growth will do.\n",
    "\n",
    "---\n",
    "\n",
    "**Types of orders of growth**\n",
    "\n",
    "* Constant\n",
    "\n",
    "* Linear\n",
    "\n",
    "* Quadratic\n",
    "\n",
    "* Logarithmic\n",
    "\n",
    "* nlogn\n",
    "\n",
    "* Exponential"
   ]
  },
  {
   "cell_type": "markdown",
   "metadata": {},
   "source": [
    "%%latex \n",
    "\\newpage"
   ]
  },
  {
   "cell_type": "markdown",
   "metadata": {},
   "source": [
    "# Video 2: Big Oh Notation\n",
    "\n",
    "* Big Oh notation measures an **upper bound on the asymptotic growth**, often called order of growth.\n",
    "\n",
    "* Big Oh or O() is used to describe worst case:\n",
    "\n",
    "    * Worst case occurs often and is the bottleneck when a program runs.\n",
    "    \n",
    "    * Express rate of growth of program relative to the input size.\n",
    "    \n",
    "     * Evaluate algorithm, not machine or implementation.\n",
    "\n",
    "---\n",
    "\n",
    "Let's see an example:"
   ]
  },
  {
   "cell_type": "code",
   "execution_count": 10,
   "metadata": {},
   "outputs": [],
   "source": [
    "def fact_iter(n):\n",
    "    \"\"\"assumes n an int >= 0\"\"\"\n",
    "    # 1 step here\n",
    "    answer = 1\n",
    "    # 5 steps inside the loop\n",
    "    while n > 1:\n",
    "        answer *= n\n",
    "        n -= 1\n",
    "    # 1 final step\n",
    "    return answer"
   ]
  },
  {
   "cell_type": "markdown",
   "metadata": {},
   "source": [
    "* The number of the steps is 1 + 5n + 1.\n",
    "\n",
    "* The order of this algorithm is O(n), since the addition and multiplicative factors are not relevant.\n",
    "\n",
    "---\n",
    "\n",
    "**Simplification examples**\n",
    "\n",
    "* n^2 + 2n + 2 = O(n^2)\n",
    "\n",
    "* log(n) + n + 4 = O(n)\n",
    "\n",
    "* 0.0001 n log(n) * 300n = O(n log n)\n",
    "\n",
    "* 2 n^30 + 3^n = O(3^n)\n",
    "\n",
    "We focus on the **dominant terms**.\n",
    "\n",
    "---\n",
    "\n",
    "* O(1) - constant\n",
    "\n",
    "* O(log n) - logarithmic.\n",
    "\n",
    "* O(n) - linear\n",
    "\n",
    "* O(n log n) - loglinear.\n",
    "\n",
    "* O(n^c) - polynomial.\n",
    "\n",
    "* O(c^n) - exponential.\n",
    "\n",
    "C is a constant, n is the size of the input.\n",
    "\n",
    "* The higher I am in the hierarchy, the more efficient the algorithm is.\n",
    "\n",
    "---\n",
    "\n",
    "**Law of Addition** for O():\n",
    "\n",
    "* Used with **sequential** statements.\n",
    "\n",
    "O(n) + O(n^2) = O(n + n^2) = O(n^2)\n",
    "\n",
    "**Law of Multiplication** for O():\n",
    "\n",
    "* Used with **nested** statements/loops.\n",
    "\n",
    "O(n) * O(n) = O(n^2) because the outer loop goes n times and the inner loop goes n times for every outer loop tier.\n",
    "\n",
    "---"
   ]
  },
  {
   "cell_type": "markdown",
   "metadata": {},
   "source": [
    "%%latex \n",
    "\\newpage"
   ]
  },
  {
   "cell_type": "markdown",
   "metadata": {},
   "source": [
    "# Video 3: Complexity Classes\n",
    "\n",
    "Let's see examples of each one of the complexity classes.\n",
    "\n",
    "---\n",
    "\n",
    "**O(1) - Constant**\n",
    "\n",
    "* Complexity independent of the input.\n",
    "\n",
    "* Few interesting algorithms in this class.\n",
    "\n",
    "---\n",
    "\n",
    "**O(log n) - Logarithmic**\n",
    "\n",
    "* Bisection search.\n",
    "\n",
    "* Binary search of a list.\n",
    "\n",
    "---\n",
    "\n",
    "**O(n) - Linear**\n",
    "\n",
    "* Searching a list in sequence to see if an element is present.\n",
    "\n",
    "* Add characters of a string, assumed to be composed of decimal digits.\n",
    "\n",
    "* factorial_iterative() and factorial_recursive() are both O(n). One does n for loops, the other does n function calls. \n",
    "\n",
    "---\n",
    "\n",
    "**Log-Linear**\n",
    "\n",
    "* Very commonly used log-linear algorithm is merge sort."
   ]
  },
  {
   "cell_type": "markdown",
   "metadata": {},
   "source": [
    "%%latex \n",
    "\\newpage"
   ]
  },
  {
   "cell_type": "markdown",
   "metadata": {},
   "source": [
    "# Video 4: Analyzing Complexity\n",
    "\n",
    "**Polynomial**\n",
    "\n",
    "* Most common is quadratic.\n",
    "\n",
    "* Commonly occurs when we have nested loops or recursive function calls."
   ]
  },
  {
   "cell_type": "markdown",
   "metadata": {},
   "source": [
    "%%latex \n",
    "\\newpage"
   ]
  },
  {
   "cell_type": "markdown",
   "metadata": {},
   "source": [
    "# Video 5: More Analyzing Complexity\n",
    "\n",
    "**Exponential**\n",
    "\n",
    "* Recursive functions where more than one recursive call for each size of problem.\n",
    "\n",
    "* Many important problems are inherently exponential. So sometimes, we rather approximate solutions quickly than finding the most accurate guess."
   ]
  },
  {
   "cell_type": "markdown",
   "metadata": {},
   "source": [
    "%%latex \n",
    "\\newpage"
   ]
  },
  {
   "cell_type": "markdown",
   "metadata": {},
   "source": [
    "# Video 6: Recursion Complexity\n",
    "\n",
    "* Interesting comments on methods that appear to be of a given order of growth with respects to the length of its contents, and a different order of growth with respects to its actual length. Re-Check.\n",
    "\n",
    "* Fibonacci analyzed again.\n",
    "\n",
    "    * Iterative is O(n).\n",
    "    \n",
    "    * Recursive is O(c^n).\n",
    "    \n",
    "* Interesting analysis regarding the complexity that comes with lists vs the complexity that comes with dictionaries."
   ]
  },
  {
   "cell_type": "markdown",
   "metadata": {},
   "source": [
    "%%latex \n",
    "\\newpage"
   ]
  },
  {
   "cell_type": "markdown",
   "metadata": {},
   "source": [
    "# Video 7: Search Algorithms\n",
    "\n",
    "**Search algorithm**: Method for finding an item or group of items with specific properties within a collection of items.\n",
    "\n",
    "* Collection could be implicit. Example: find square root as a search problem.\n",
    "\n",
    "* Collection could be explicit. Example: Is a student record in a stored collection of data?\n",
    "\n",
    "---\n",
    "\n",
    "**Searching algorithms**\n",
    "\n",
    "* Linear search\n",
    "\n",
    "    * Brute force search\n",
    "    \n",
    "    * List does not have to be sorted.\n",
    "    \n",
    "    * Complexity is O(n), where n is len(L).\n",
    "    \n",
    "    * Accesing a list item is constant time, regardless the list being homogeneous or heterogeneous. Explanation in video.\n",
    "\n",
    "* Bisection search.\n",
    "    \n",
    "    * List MUST be sorted to give correct answer.\n",
    "    \n",
    "    * Different implementations of the algorithm are possible."
   ]
  },
  {
   "cell_type": "markdown",
   "metadata": {},
   "source": [
    "%%latex \n",
    "\\newpage"
   ]
  },
  {
   "cell_type": "markdown",
   "metadata": {},
   "source": [
    "# Video 8: Bisection Search\n",
    "\n",
    "* Linear search on sorted list is still O(n) - still might have to go all the way through the list.\n",
    "\n",
    "---\n",
    "\n",
    "**Bisection search**\n",
    "\n",
    "* Complexity is O(log n) - where n is len(L).\n",
    "\n",
    "---\n",
    "\n",
    "**Implementation 1**\n",
    "\n",
    "* Recursive way. \n",
    "\n",
    "* Making copies of the list adds up to a large complexity. \n",
    "\n",
    "* O(n log n). O(n) for a tighter bound because length of list is halved each recursive call.\n",
    "\n",
    "---\n",
    "\n",
    "**Implementation 2**\n",
    "\n",
    "* Define a function and a helper function. \n",
    "\n",
    "* Instead of copying the list, just remember the indexes that you used in the last step in order to do the recursive call.\n",
    "\n",
    "* O(log n). \n",
    "\n",
    "---\n",
    "\n",
    "* Using linear search, search for an element is O(n) - regardless of whether the list is sorted or not.\n",
    "\n",
    "* Using binary search, search for an element is O(log n), assuming the list is sorted.\n",
    "\n",
    "When does it make sense to sort first then search?\n",
    "\n",
    "* When sorting is less than O(n). And that is **never** true.\n",
    "\n",
    "---\n",
    "\n",
    "**Amortized cost**\n",
    "\n",
    "* Maybe I sort the list once and perform multiple searches. "
   ]
  },
  {
   "cell_type": "markdown",
   "metadata": {},
   "source": [
    "%%latex \n",
    "\\newpage"
   ]
  },
  {
   "cell_type": "markdown",
   "metadata": {},
   "source": [
    "# Video 9: Bogo Sort\n",
    "\n",
    "* Randomly assign the elements in a certain order and check whether the elements are in order or not.\n",
    "\n",
    "* Complexity of the bogo sort: O(?). It is unbounded."
   ]
  },
  {
   "cell_type": "markdown",
   "metadata": {},
   "source": [
    "%%latex \n",
    "\\newpage"
   ]
  },
  {
   "cell_type": "markdown",
   "metadata": {},
   "source": [
    "# Video 10: Bubble Sort\n",
    "\n",
    "* Compare consecutive pairs of elements.\n",
    "\n",
    "* Swap elements in pair such that smaller is first.\n",
    "\n",
    "* When reach end of list, start over again.\n",
    "\n",
    "* Stop when no more swaps have been made.\n",
    "\n",
    "* Complexity = O(n^2) where n is len(L)."
   ]
  },
  {
   "cell_type": "markdown",
   "metadata": {},
   "source": [
    "%%latex \n",
    "\\newpage"
   ]
  },
  {
   "cell_type": "markdown",
   "metadata": {},
   "source": [
    "# Video 11: Selection Sort\n",
    "\n",
    "* First step\n",
    "    \n",
    "    * Extract minimum element.\n",
    "    \n",
    "    * Swap it with element at index 0.\n",
    "\n",
    "* Subsequent step.\n",
    "\n",
    "    * Remaining sublist, extract minimum element.\n",
    "    \n",
    "    * Swap it with the element at index 1.\n",
    "    \n",
    "* Keep the left portion of the list sorted\n",
    "\n",
    "    * At ith step, first i elements in list are sorted.\n",
    "    \n",
    "    * All other elements are bigger than first i elements.\n",
    "    \n",
    "--- \n",
    "\n",
    "**Is there a loop invariant?**\n",
    "\n",
    "* given prefix of list L[0:i] and suffix L[i+1:len(L)], then prefix is sorted and no element in prefix is larger than smallest element in suffix.\n",
    "\n",
    "* I prove this is true by induction.\n",
    "\n",
    "1. base case: prefix empty, suffix whole list – invariant true. \n",
    "\n",
    "2. induction step: move minimum element from suffix to end of prefix. Since invariant true before move, prefix sorted after append.\n",
    "\n",
    "3. when exit, prefix is entire list, suffix empty, so sorted.\n",
    "\n",
    "---\n",
    "\n",
    "**Implementation**\n",
    "\n",
    "* I don't want to copy the list! It is very inefficient.\n",
    "\n",
    "* Complexity is O(n^2) where n is len(L). Timing wise probably more efficient than the bubble sort."
   ]
  },
  {
   "cell_type": "markdown",
   "metadata": {},
   "source": [
    "%%latex \n",
    "\\newpage"
   ]
  },
  {
   "cell_type": "markdown",
   "metadata": {},
   "source": [
    "# Video 12: Merge and Sort\n",
    "\n",
    "* Use a divide and conquer approach.\n",
    "\n",
    "1. If list is of length 0 or 1, already sorted.\n",
    "\n",
    "2. If list has more than one element, split into two lists and sort each.\n",
    "\n",
    "3. Merge sorted sublists\n",
    "\n",
    "    1. Look at first element of each, move smaller to end of the result.\n",
    "    \n",
    "    2. When one list empty, just copy rest of other list.\n",
    "    \n",
    "---\n",
    "\n",
    "Example of merging (see slide 36/42).\n",
    "\n",
    "**Complexity of the merging**: linear in the length of the lists.\n",
    "\n",
    "---\n",
    "\n",
    "**Implementation**\n",
    "\n",
    "The merge sort algorithm itself is recursive.\n",
    "\n",
    "**Final complexity analysis**\n",
    "\n",
    "* At first recursion level\n",
    "\n",
    "    * n/2 elements in each list.\n",
    "    \n",
    "    * O(n) + O(n) = O(n) where n is len(L).\n",
    "    \n",
    "* At second recursion level\n",
    "\n",
    "    * n/4 elements in each list.\n",
    "    \n",
    "    * two merges: O(n) where n is len(L).\n",
    "\n",
    "* Each recursion level is O(n).\n",
    "\n",
    "* Dividing list in half with each recursive call. O(log n) where n is len(L).\n",
    "\n",
    "* Overall complexity is **O(n log n)) where n is len(L)**.\n",
    "\n",
    "---\n",
    "\n",
    "O(n log n) is the fastest a sort can be."
   ]
  }
 ],
 "metadata": {
  "kernelspec": {
   "display_name": "Python 3",
   "language": "python",
   "name": "python3"
  },
  "language_info": {
   "codemirror_mode": {
    "name": "ipython",
    "version": 3
   },
   "file_extension": ".py",
   "mimetype": "text/x-python",
   "name": "python",
   "nbconvert_exporter": "python",
   "pygments_lexer": "ipython3",
   "version": "3.7.6"
  }
 },
 "nbformat": 4,
 "nbformat_minor": 4
}

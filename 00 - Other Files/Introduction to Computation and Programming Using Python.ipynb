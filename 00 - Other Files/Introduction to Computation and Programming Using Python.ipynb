{
 "cells": [
  {
   "cell_type": "markdown",
   "metadata": {},
   "source": [
    "**Preface**\n",
    "\n",
    "The book is aimed at students with little or no prior programming experience who have a desire to understand computational approaches to problem solving. Students who wish to really learn the material will have to spend a lot of time and effort learning to bend the computer to their will. \n",
    "\n",
    "The idea is to help students learn Python and how to be a good programmer in the context of using computation to solve interesting problems.\n",
    "\n",
    "The book has three pervasive themes: systematic problem solving, the power \n",
    "of abstraction, and computation as a way of thinking about the world.\n",
    "\n",
    "*Programming is an intrinsically difficult activity. Just as “there is no royal\n",
    "road to geometry,” there is no royal road to programming.*"
   ]
  },
  {
   "cell_type": "markdown",
   "metadata": {},
   "source": [
    "# Getting started\n",
    "\n",
    "* **Declarative knowledge** is composed of statements of facts: \"the square root of x is a number y such that y*y = x\". \n",
    "\n",
    "* **Imperative knowledge** is \"how to\" knowledge, or recipes for deducing information. Heron of Alexandria was the first to document a way to compute the square root of a number.\n",
    "\n",
    "An **algorithm** is a finite list of instructions that describe a **computation** that when executed on a set of inputs will proceed through a set of well-defined states and eventually produce an output. \n",
    "\n",
    "---\n",
    "\n",
    "An **interpreter** is a program that can execute any legal set of instructions and thus can be used to compute anything that one can describe using some basic set of instructions.\n",
    "\n",
    "Most often, the interpreter simply goes to the next instruction in the sequence, but not always. In some cases, it performs a test, and on the basis of that test, execution may jump to some other point in the sequence of instructions. This is called **flow of control**, and is essential to allowing us to write programs that perform complex tasks.\n",
    "\n",
    "---\n",
    "\n",
    "In 1936, the British mathematician Alan Turing described a hypothetical\n",
    "computing device that has come to be called a **Universal Turing Machine**. The\n",
    "machine had an unbounded memory in the form of “tape” on which one could\n",
    "write zeroes and ones, and some very simple primitive instructions for moving,\n",
    "reading, and writing to the tape. The **Church-Turing thesis** states that *if a function is computable, a Turing Machine can be programmed to compute it*.\n",
    "\n",
    "Turing showed, for example, that *it is impossible to write a program that given an arbitrary program, call it P, prints true if and only if P will run forever*. This is known as the **halting problem**.\n",
    "\n",
    "A programming language is said to be **Turing complete** if it can be used to\n",
    "simulate a universal Turing Machine. All modern programming languages are\n",
    "Turing complete. \n",
    "\n",
    "---\n",
    "\n",
    "Each programming language has a set of primitive constructs, a syntax, a\n",
    "static semantics, and a semantics.\n",
    "The primitive constructs in Python include **literals** (e.g., the number 3.2 and the string 'abc') and **inflix operators** (e.g., + and /).\n",
    "\n",
    "* The **syntax** of a language defines which strings of charactrs and symbols are well formed.\n",
    "\n",
    "* The **static semantics** defines which syntactically valid strings have a meaning. \n",
    "\n",
    "> In Python, the sequence 3.2/'abc' is syntactically well formed (literal - operator - literal), but produces a static semantic error since it is not meaningful.\n",
    "\n",
    "* The **semantics** of a language associates a meaning with each syntactically correct string of symbols that has no static semantic errors. \n",
    "\n",
    "Programming languages are designed so that each legal program has exactly one meaning.\n",
    "\n",
    "---\n",
    "\n",
    "What might happen if the program has an error and behaves in an unintended way? \n",
    "\n",
    "* It might crash, stop running and produce an obvious indication that it has done so.\n",
    "\n",
    "* It might keep running and never stop.\n",
    "\n",
    "* It might run to completion and produce an answer that might, or not, be correct. This is the **worst** case.\n",
    "\n",
    "Whenever possible, programs should be written in such a way that when they don't work properly, it is self-evident. "
   ]
  },
  {
   "cell_type": "markdown",
   "metadata": {},
   "source": [
    "# Introduction to Python\n",
    "\n",
    "Though each programming language is different, there are some dimensions along which they can be related.\n",
    "\n",
    "* **Low-level versus high-level** refers to whether we program using instructions and data objects at the level of the machine or whether we program using more abstract operations.\n",
    "\n",
    "* **General versus targeted to an application domain**.\n",
    "\n",
    "* **Interpreted versus compiled** refers to whether the sequence of instructions written by the programmer, called **source code**, is executed directly (by an interpreter) or whether it is first converted (by a compiler) into a sequence of machine-level primitive operations. \n",
    " * Interpreted languages tend to be easier to debug.\n",
    " * Compiled languages tend to produce programs that run more quickly and use less space.\n",
    "\n",
    "In particular, Python is a general-purpose high level language that is designed to be interpreted. It has a weak static semantic checking that make it sub-otimal for some specific applications.\n",
    "\n",
    "## The basic elements of Python\n",
    "\n"
   ]
  },
  {
   "cell_type": "code",
   "execution_count": null,
   "metadata": {},
   "outputs": [],
   "source": []
  }
 ],
 "metadata": {
  "kernelspec": {
   "display_name": "Python 3",
   "language": "python",
   "name": "python3"
  },
  "language_info": {
   "codemirror_mode": {
    "name": "ipython",
    "version": 3
   },
   "file_extension": ".py",
   "mimetype": "text/x-python",
   "name": "python",
   "nbconvert_exporter": "python",
   "pygments_lexer": "ipython3",
   "version": "3.7.6"
  }
 },
 "nbformat": 4,
 "nbformat_minor": 4
}

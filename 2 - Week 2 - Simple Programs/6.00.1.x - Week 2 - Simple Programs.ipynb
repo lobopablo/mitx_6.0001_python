{
 "cells": [
  {
   "cell_type": "markdown",
   "metadata": {},
   "source": [
    "# Video 1: So far\n",
    "\n",
    "Reviewing strings:\n",
    "\n",
    "* A sequence of case sensitive characters.\n",
    "\n",
    "* Can compare them with ==, <, >, etc.\n",
    "\n",
    "* len() is a function used to retrieve their **length**.\n",
    "\n",
    "* Square brackets are used to perform **indexing** into a string to get the value at a certain index/position.\n",
    "\n",
    "* Can **slice** strings using [start:stop:step].\n",
    "\n",
    "* Strings are \"**inmutable**\" - cannot be modified. \n"
   ]
  },
  {
   "cell_type": "code",
   "execution_count": 4,
   "metadata": {},
   "outputs": [
    {
     "name": "stdout",
     "output_type": "stream",
     "text": [
      "hello\n"
     ]
    },
    {
     "data": {
      "text/plain": [
       "'h'"
      ]
     },
     "execution_count": 4,
     "metadata": {},
     "output_type": "execute_result"
    }
   ],
   "source": [
    "s = 'hello'\n",
    "print(s)\n",
    "type(s)\n",
    "s[0]"
   ]
  },
  {
   "cell_type": "code",
   "execution_count": 5,
   "metadata": {},
   "outputs": [
    {
     "ename": "TypeError",
     "evalue": "'str' object does not support item assignment",
     "output_type": "error",
     "traceback": [
      "\u001b[1;31m---------------------------------------------------------------------------\u001b[0m",
      "\u001b[1;31mTypeError\u001b[0m                                 Traceback (most recent call last)",
      "\u001b[1;32m<ipython-input-5-88dd6fabac11>\u001b[0m in \u001b[0;36m<module>\u001b[1;34m\u001b[0m\n\u001b[1;32m----> 1\u001b[1;33m \u001b[0ms\u001b[0m\u001b[1;33m[\u001b[0m\u001b[1;36m0\u001b[0m\u001b[1;33m]\u001b[0m \u001b[1;33m=\u001b[0m \u001b[1;34m'y'\u001b[0m\u001b[1;33m\u001b[0m\u001b[1;33m\u001b[0m\u001b[0m\n\u001b[0m",
      "\u001b[1;31mTypeError\u001b[0m: 'str' object does not support item assignment"
     ]
    }
   ],
   "source": [
    "s[0] = 'y'"
   ]
  },
  {
   "cell_type": "code",
   "execution_count": 7,
   "metadata": {},
   "outputs": [
    {
     "name": "stdout",
     "output_type": "stream",
     "text": [
      "yello\n"
     ]
    }
   ],
   "source": [
    "s = 'y' + s[1:]\n",
    "print(s)"
   ]
  },
  {
   "cell_type": "markdown",
   "metadata": {},
   "source": [
    "%%latex\n",
    "\\newpage"
   ]
  },
  {
   "cell_type": "markdown",
   "metadata": {},
   "source": [
    "# Video 2: Approximate Solutions\n",
    "\n",
    "Observations\n",
    "\n",
    "1. Step could be any small number.\n",
    "\n",
    "    1. If too small, takes a long time to find square root.\n",
    "    \n",
    "    2. If too large, might skip over answer without getting close enough.\n",
    "    \n",
    "2. In general, will take x/step times through code to find solution.\n",
    "\n",
    "3. We need a more efficient way to do this."
   ]
  },
  {
   "cell_type": "markdown",
   "metadata": {},
   "source": [
    "%%latex\n",
    "\\newpage"
   ]
  },
  {
   "cell_type": "markdown",
   "metadata": {},
   "source": [
    "# Video 3: Bisection Search\n",
    "\n",
    "At each stage, reduce range of values to search by half. This ia a great example of a logarithmic time algorithm finding an answer very quickly. This idea will be further developed later on in the course.\n",
    "\n",
    "This should work on any problem with **ordering property** - value of function being solved varies monotonically with input value. "
   ]
  },
  {
   "cell_type": "markdown",
   "metadata": {},
   "source": [
    "%%latex\n",
    "\\newpage"
   ]
  },
  {
   "cell_type": "markdown",
   "metadata": {},
   "source": [
    "# Video 4: Floats and Fractions\n",
    "\n",
    "How do float represent real numbers? It is useful to get a sense of how the machine actually stores the numbers. \n",
    "\n",
    "Internally, the computer represents every number in binary, whether it's an integer or a float. The algorithm of how it does it is slightly complex and was shown using two examples. Follow those if interested in the actual method.\n",
    "\n",
    "**Some implications** \n",
    "\n",
    "* If there is no integer p such that x*(2^p) is a whole number, then internal representation is always an approximation.\n",
    "\n",
    "* Suggest that testing equality of floats is not exact:\n",
    "    \n",
    "    * Use abs(x-y) < some small number, rather than x == y.\n",
    "    \n",
    "* Why does print(0.1) return 0.1, if not exact?\n",
    "    \n",
    "    * Because Python designers set it up this way to automatically round."
   ]
  },
  {
   "cell_type": "markdown",
   "metadata": {},
   "source": [
    "%%latex\n",
    "\\newpage"
   ]
  },
  {
   "cell_type": "markdown",
   "metadata": {},
   "source": [
    "# Video 5: Newton-Raphson\n",
    "\n",
    "* General approximation algorithm to find roots of a polynomial in one variable.\n",
    "\n",
    "* Newton showed that if g is an approximation to the root of p, then g - p(g)/p'(g) is a better approximation, where p' is a derivate of p.\n",
    "\n",
    "---\n",
    "\n",
    "* So far we've seen the following methods of generating guesses:\n",
    "    \n",
    "    * Exhaustive enumeration.\n",
    "    \n",
    "    * Bisection search.\n",
    "    \n",
    "    * Newton-Raphson (for root finding)."
   ]
  },
  {
   "cell_type": "markdown",
   "metadata": {},
   "source": [
    "%%latex\n",
    "\\newpage"
   ]
  },
  {
   "cell_type": "markdown",
   "metadata": {},
   "source": [
    "# Video 6: Decomposition and Abstraction\n",
    "\n",
    "Good programming should be measured by the amount of functionality: the ability to make computations easily.\n",
    "\n",
    "In order to become better programmers we're gonna introduce the concept of a function. But before that, we need to introduce two concepts: decomposition and abstraction. \n",
    "\n",
    "**Abstraction**: do not need to know how something works in order to be able to use it.\n",
    "\n",
    "    * Suppress details of method to compute something from use of that computation.\n",
    "\n",
    "**Decomposition**: different devices work together to achieve an end goal.\n",
    "\n",
    "    * Break problem into different, self-contained, pieces.\n",
    "\n",
    "This lecture, we will achieve decomposition with **functions**. In a few weeks, achieve decomposition with **classes**.\n",
    "\n",
    "We will achieve abstraction with **function specifications** or **docstrings**."
   ]
  },
  {
   "cell_type": "markdown",
   "metadata": {},
   "source": [
    "%%latex\n",
    "\\newpage"
   ]
  },
  {
   "cell_type": "markdown",
   "metadata": {},
   "source": [
    "# Video 7: Introducing Functions\n",
    "\n",
    "* Characteristics\n",
    "\n",
    "    * Name\n",
    "    \n",
    "    * Parameters (0 or more).\n",
    "    \n",
    "    * Docstring (optional but recommended)\n",
    "    \n",
    "    * Body.\n",
    "    \n",
    "* How to write it?"
   ]
  },
  {
   "cell_type": "code",
   "execution_count": 3,
   "metadata": {},
   "outputs": [
    {
     "name": "stdout",
     "output_type": "stream",
     "text": [
      "hi\n"
     ]
    },
    {
     "data": {
      "text/plain": [
       "False"
      ]
     },
     "execution_count": 3,
     "metadata": {},
     "output_type": "execute_result"
    }
   ],
   "source": [
    "def is_even(i):\n",
    "    \"\"\"\n",
    "    Input: i, a positive int\n",
    "    Returns True if i is even, otherwise False\n",
    "    \"\"\"\n",
    "    print(\"hi\")\n",
    "    return i%2 == 0\n",
    "is_even(3)"
   ]
  },
  {
   "cell_type": "markdown",
   "metadata": {},
   "source": [
    "Between \"\"\" we have the specification (docstring) of the function.\n",
    "Indented is the \"body\" of the function."
   ]
  },
  {
   "cell_type": "markdown",
   "metadata": {},
   "source": [
    "%%latex\n",
    "\\newpage"
   ]
  },
  {
   "cell_type": "markdown",
   "metadata": {},
   "source": [
    "# Video 8: Calling Functions and Scope\n",
    "\n",
    "* **Formal parameters** gets bound to the value of **actual parameter** when function is called.\n",
    "\n",
    "* New **scope/frame/environment** created when enter a function.\n",
    "\n",
    "* **Scope** is a mapping of names to objects. \n",
    "\n",
    "When a variable is changed within a function, it is changed in the function's scope but not in the global scope.  Anytime a function is invoken, I create a new frame. Once I'm done with the body of the function, the frame is erased, because I no longer need it.\n",
    "\n",
    "---\n",
    "\n",
    "**Return vs Print**\n",
    "\n",
    "* Return only has meaning **inside** a function, while print can be used **outside** functions.\n",
    "\n",
    "* Only **one** return executed inside a function, while print can be executed many times.\n",
    "\n",
    "* Code inside function but after return statement are not executed.\n",
    "\n",
    "* Return has a value associated with it, **given to function caller**, while print has a value associated with it **outputted** to the console. \n",
    "\n",
    "---\n",
    "\n",
    "Arguments can take on any type, even functions. \n",
    "\n",
    "---\n",
    "\n",
    "**Scope**\n",
    "\n",
    "* Inside a function, **can access** a variable defined outside.\n",
    "\n",
    "* Inside a function, **cannot modify** a variable defined outside."
   ]
  },
  {
   "cell_type": "markdown",
   "metadata": {},
   "source": [
    "%%latex\n",
    "\\newpage"
   ]
  },
  {
   "cell_type": "markdown",
   "metadata": {},
   "source": [
    "# Video 9: Keyword Arguments\n",
    "\n",
    "You may use an argument that changes how the function works. It branches out the functionalities provided by the function itself. \n",
    "\n",
    "---\n",
    "\n",
    "Interesting functionality: One may invoke the function inputting the parameters in a different order.\n",
    "Example:\n",
    "def fun(a,b,c):\n",
    "    return  a * b + c\n",
    "z = fun(b = 7, a = 5, c = 2)\n",
    "\n",
    "---\n",
    "\n",
    "Another interesting tool is being able to define a default value for a parameter such that, in case it is not explictly passed as an input when invoking the function, the parameter will take specifically that value. "
   ]
  },
  {
   "cell_type": "markdown",
   "metadata": {},
   "source": [
    "%%latex\n",
    "\\newpage"
   ]
  },
  {
   "cell_type": "markdown",
   "metadata": {},
   "source": [
    "# Video 10:  Specification\n",
    "\n",
    "A **contract** between the implementer of a function and the clients who will use it.\n",
    "\n",
    "* **Assumptions**: conditions that must be met by clients of the function; typically constraints on values of parameters.\n",
    "\n",
    "* **Guarantees**: conditions that must be met by function providing it has been called in manner consistent with assumptions."
   ]
  },
  {
   "cell_type": "markdown",
   "metadata": {},
   "source": [
    "%%latex\n",
    "\\newpage"
   ]
  },
  {
   "cell_type": "markdown",
   "metadata": {},
   "source": [
    "# String Methods\n",
    "## Activity 13 of 27\n",
    "\n",
    "String methods used:\n",
    "\n",
    "* replace\n",
    "\n",
    "* count\n",
    "\n",
    "* find\n",
    "\n",
    "* index\n",
    "\n",
    "* swapcase\n",
    "\n",
    "* capitalize\n",
    "\n",
    "* islower\n",
    "\n",
    "* isupper\n",
    "\n",
    "* upper\n",
    "\n",
    "https://docs.python.org/3/library/stdtypes.html#string-methods"
   ]
  },
  {
   "cell_type": "markdown",
   "metadata": {},
   "source": [
    "%%latex\n",
    "\\newpage"
   ]
  },
  {
   "cell_type": "markdown",
   "metadata": {},
   "source": [
    "# Video 11: Iteration vs Recursion\n",
    "\n",
    "**Recursion**\n",
    "\n",
    "* A way to design solutions to problems by divide-and-conquer or decrease-and-conquer.\n",
    "\n",
    "* A programming technique where a function **calls itself**.\n",
    "\n",
    "* The goal is to NOT have infinite recursion:\n",
    "\n",
    "    * Must have 1 or more base cases that are easy to solve.\n",
    "    \n",
    "    * Must solve the same problem on some other input with the goal of simplifying the larger problem input.\n",
    "    \n",
    "---\n",
    "\n",
    "There's two structures that need to be identified in a problem that is solved by recursion:\n",
    "\n",
    "1. Recursive step: how to reduce problem to a **smaller/simpler** version of itself.\n",
    "\n",
    "2. Base case: Reduce the problem until you reach a simple case that can be **solved directly**.  \n"
   ]
  },
  {
   "cell_type": "code",
   "execution_count": 1,
   "metadata": {},
   "outputs": [
    {
     "data": {
      "text/plain": [
       "20"
      ]
     },
     "execution_count": 1,
     "metadata": {},
     "output_type": "execute_result"
    }
   ],
   "source": [
    "# Multiplication between 2 numbers\n",
    "def mult(a,b):\n",
    "    # Base case\n",
    "    if b == 1:\n",
    "        return a\n",
    "    # Recursive step\n",
    "    else:\n",
    "        return a + mult(a,b-1)\n",
    "\n",
    "mult(4,5)"
   ]
  },
  {
   "cell_type": "code",
   "execution_count": 3,
   "metadata": {},
   "outputs": [
    {
     "data": {
      "text/plain": [
       "720"
      ]
     },
     "execution_count": 3,
     "metadata": {},
     "output_type": "execute_result"
    }
   ],
   "source": [
    "# Factorial of a number n\n",
    "def fact(n):\n",
    "    # Base case\n",
    "    if n ==1:\n",
    "        return 1\n",
    "    # Recursive step\n",
    "    else: \n",
    "        return n*fact(n-1)\n",
    "\n",
    "fact(6)"
   ]
  },
  {
   "cell_type": "markdown",
   "metadata": {},
   "source": [
    "* Each recursive call to a function creates its **own scope/environment**.\n",
    "\n",
    "* **Bindings of variables** in a scope is not changed by recursive call.\n",
    "\n",
    "* Flow of control passes back to **previous scope** once function call returns value. "
   ]
  },
  {
   "cell_type": "markdown",
   "metadata": {},
   "source": [
    "%%latex\n",
    "\\newpage"
   ]
  },
  {
   "cell_type": "markdown",
   "metadata": {},
   "source": [
    "# Video 12: Inductive Reasoning\n",
    "\n",
    "How do we know that our recursive code will work?\n",
    "\n",
    "* Invoking the recursive function with an ever decreasing input parameter.\n",
    "\n",
    "* Another tool: Mathematical Induction. To prove a statement indexed on integers is true for all values of n:\n",
    "    \n",
    "    * Prove it is true when n is smallest value (e.g. n=0 or n=1).\n",
    "    \n",
    "    * Then prove that if it is true for an arbitrary value of n, one can show that it must be true for n+1."
   ]
  },
  {
   "cell_type": "markdown",
   "metadata": {},
   "source": [
    "%%latex\n",
    "\\newpage"
   ]
  },
  {
   "cell_type": "markdown",
   "metadata": {},
   "source": [
    "# Video 13: Towers of Hanoi\n",
    "\n",
    "Somewhat complex problem that can be solved \"pretty easily\" by implementing recursive functions.\n"
   ]
  },
  {
   "cell_type": "markdown",
   "metadata": {},
   "source": [
    "%%latex\n",
    "\\newpage"
   ]
  },
  {
   "cell_type": "markdown",
   "metadata": {},
   "source": [
    "# Video 14: Fibonacci\n",
    "\n",
    "Can have recursion with multiple base cases too!\n",
    "\n",
    "To generate the Fibonacci sequence:\n",
    "\n",
    "* Base cases:\n",
    "\n",
    "    * Females(0) = 1\n",
    "    \n",
    "    * Females(1) = 1\n",
    "    \n",
    "* Recursive case:\n",
    "\n",
    "    * Females(n) = Females(n-1)+Females(n-2)"
   ]
  },
  {
   "cell_type": "code",
   "execution_count": 1,
   "metadata": {},
   "outputs": [
    {
     "name": "stdout",
     "output_type": "stream",
     "text": [
      "21\n"
     ]
    }
   ],
   "source": [
    "def fib(x):\n",
    "    \"\"\"assumes x an int >= 0\n",
    "       returns Fibonacci of x\"\"\"\n",
    "    if x == 0 or x == 1:\n",
    "        return 1\n",
    "    else:\n",
    "        return fib(x-1) + fib(x-2)\n",
    "\n",
    "print(fib(7))"
   ]
  },
  {
   "cell_type": "markdown",
   "metadata": {},
   "source": [
    "%%latex\n",
    "\\newpage"
   ]
  },
  {
   "cell_type": "markdown",
   "metadata": {},
   "source": [
    "# Video 15: Recursion on non-numerics\n",
    "\n",
    "Solving recursively whether a string is or not a palindrome. "
   ]
  },
  {
   "cell_type": "code",
   "execution_count": 1,
   "metadata": {},
   "outputs": [
    {
     "name": "stdout",
     "output_type": "stream",
     "text": [
      "\n",
      "Is eve a palindrome?\n",
      "True\n",
      "\n",
      "Is able was I ere I saw Elba a palindrome?\n",
      "True\n"
     ]
    }
   ],
   "source": [
    "def isPalindrome(s):\n",
    "\n",
    "    def toChars(s):\n",
    "        s = s.lower()\n",
    "        ans = ''\n",
    "        for c in s:\n",
    "            if c in 'abcdefghijklmnopqrstuvwxyz':\n",
    "                ans = ans + c\n",
    "        return ans\n",
    "\n",
    "    def isPal(s):\n",
    "        if len(s) <= 1:\n",
    "            return True\n",
    "        else:\n",
    "            return s[0] == s[-1] and isPal(s[1:-1])\n",
    "\n",
    "    return isPal(toChars(s))\n",
    "\n",
    "print(\"\")\n",
    "print('Is eve a palindrome?')\n",
    "print(isPalindrome('eve'))\n",
    "\n",
    "print('')\n",
    "print('Is able was I ere I saw Elba a palindrome?')\n",
    "print(isPalindrome('Able was I, ere I saw Elba'))"
   ]
  },
  {
   "cell_type": "markdown",
   "metadata": {},
   "source": [
    "%%latex\n",
    "\\newpage"
   ]
  },
  {
   "cell_type": "markdown",
   "metadata": {},
   "source": [
    "%%latex\n",
    "\\newpage"
   ]
  },
  {
   "cell_type": "markdown",
   "metadata": {},
   "source": [
    "# Video 16: Files\n",
    "\n",
    "**Module**: a .py file containing a collection of Python definitions of statements. Example: circle.py.\n",
    "\n",
    "How to use a file?\n",
    "\n",
    "1. Import it by writing: import *circle*\n",
    "\n",
    "    * In order to avoid using circle.function1(arg) everytime, I can instead use the following command: from circle import *.\n",
    "\n",
    "2. Open it by using the command open:\n",
    "\n",
    "    nameHandle = open('filename','w') / ('w' for write or 'r' for read).\n",
    "    \n",
    "    Then one might write inside it by invoking the method nameHandle.write(whatever i want to write). \n",
    "    Finally one might close the file by invoking the method nameHandle.close()"
   ]
  }
 ],
 "metadata": {
  "kernelspec": {
   "display_name": "Python 3",
   "language": "python",
   "name": "python3"
  },
  "language_info": {
   "codemirror_mode": {
    "name": "ipython",
    "version": 3
   },
   "file_extension": ".py",
   "mimetype": "text/x-python",
   "name": "python",
   "nbconvert_exporter": "python",
   "pygments_lexer": "ipython3",
   "version": "3.7.6"
  }
 },
 "nbformat": 4,
 "nbformat_minor": 4
}

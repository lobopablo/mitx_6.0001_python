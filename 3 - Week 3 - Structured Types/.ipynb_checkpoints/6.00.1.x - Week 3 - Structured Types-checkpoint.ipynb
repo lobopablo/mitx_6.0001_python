{
 "cells": [
  {
   "cell_type": "markdown",
   "metadata": {},
   "source": [
    "# Video 1: Tuples \n",
    "\n",
    "* An ordered sequence of elements, can mix element types.\n",
    "\n",
    "* **Immutable**, cannot change element values.\n",
    "\n",
    "* Represented with parentheses. \n",
    "\n",
    "Something strange happens when you try to invoke part of the tuple.\n"
   ]
  },
  {
   "cell_type": "code",
   "execution_count": 2,
   "metadata": {},
   "outputs": [
    {
     "data": {
      "text/plain": [
       "2"
      ]
     },
     "execution_count": 2,
     "metadata": {},
     "output_type": "execute_result"
    }
   ],
   "source": [
    "t = (2,\"one\",3)\n",
    "t[0]"
   ]
  },
  {
   "cell_type": "code",
   "execution_count": 3,
   "metadata": {},
   "outputs": [
    {
     "data": {
      "text/plain": [
       "('one',)"
      ]
     },
     "execution_count": 3,
     "metadata": {},
     "output_type": "execute_result"
    }
   ],
   "source": [
    "t[1:2]"
   ]
  },
  {
   "cell_type": "code",
   "execution_count": 4,
   "metadata": {},
   "outputs": [
    {
     "data": {
      "text/plain": [
       "('one', 3)"
      ]
     },
     "execution_count": 4,
     "metadata": {},
     "output_type": "execute_result"
    }
   ],
   "source": [
    "t[1:3]"
   ]
  },
  {
   "cell_type": "markdown",
   "metadata": {},
   "source": [
    "* They can be conveniently used to swap variables:\n",
    "\n",
    "(x,y) = (y,x) \n",
    "\n",
    "This works perfectly well and no information is lost.\n",
    "\n",
    "* Tuples can be used to return more than one value from a function, using the command **return** (q,r)\n",
    "\n",
    "* Tuples can be used to iterate over them.\n",
    "\n",
    "When a tuple has only one element, you must specify it as follows: (elt,)."
   ]
  },
  {
   "cell_type": "markdown",
   "metadata": {},
   "source": [
    "%%latex \n",
    "\\newpage"
   ]
  },
  {
   "cell_type": "markdown",
   "metadata": {},
   "source": [
    "# Video 2: Lists\n",
    "\n",
    "* Ordered sequence of information, accessible by index.\n",
    "\n",
    "* A list is denoted by square brackets.\n",
    "\n",
    "* A list contains elements (usually homogeneous, can contained mixed types too).\n",
    "\n",
    "* List elements can be changed so a list is **mutable**.\n",
    "\n",
    "---\n",
    "\n",
    "* The index can be a **Variable or expression**, must evaluate to an int. \n",
    "\n",
    "* I can iterate over a list too."
   ]
  },
  {
   "cell_type": "markdown",
   "metadata": {},
   "source": [
    "%%latex \n",
    "\\newpage"
   ]
  },
  {
   "cell_type": "markdown",
   "metadata": {},
   "source": [
    "# Video 3: List Operations\n",
    "\n",
    "* **Add** elements to end of list with L.append(element). This **mutates** the list!"
   ]
  },
  {
   "cell_type": "code",
   "execution_count": 7,
   "metadata": {},
   "outputs": [
    {
     "name": "stdout",
     "output_type": "stream",
     "text": [
      "[2, 1, 3, 5]\n"
     ]
    }
   ],
   "source": [
    "L = [2,1,3]\n",
    "L.append(5)\n",
    "print(L)"
   ]
  },
  {
   "cell_type": "markdown",
   "metadata": {},
   "source": [
    "What is the dot?\n",
    "\n",
    "* Lists are Python objects, everything in Python is an object.\n",
    "\n",
    "* Objects have data.\n",
    "\n",
    "* Objects have methods and functions.\n",
    "\n",
    "* Access this information by object_name.do_something()\n",
    "\n",
    "---\n",
    "\n",
    "* Can also use **concatenation** with the + operator.\n"
   ]
  },
  {
   "cell_type": "code",
   "execution_count": 9,
   "metadata": {},
   "outputs": [
    {
     "name": "stdout",
     "output_type": "stream",
     "text": [
      "[2, 1, 3, 4, 5, 6]\n"
     ]
    }
   ],
   "source": [
    "L1 = [2,1,3]\n",
    "L2 = [4,5,6]\n",
    "L3 = L1 + L2\n",
    "print(L3)"
   ]
  },
  {
   "cell_type": "markdown",
   "metadata": {},
   "source": [
    "* Can also **mutate** with the command extend."
   ]
  },
  {
   "cell_type": "code",
   "execution_count": 10,
   "metadata": {},
   "outputs": [
    {
     "name": "stdout",
     "output_type": "stream",
     "text": [
      "[2, 1, 3, 0, 6]\n"
     ]
    }
   ],
   "source": [
    "L1.extend([0,6])\n",
    "print(L1)"
   ]
  },
  {
   "cell_type": "markdown",
   "metadata": {},
   "source": [
    "* Can also **delete an element** with del(L[index]).\n",
    "\n",
    "* Remove element at **end of list** with L.pop(), returns the removed element."
   ]
  },
  {
   "cell_type": "code",
   "execution_count": 12,
   "metadata": {},
   "outputs": [
    {
     "name": "stdout",
     "output_type": "stream",
     "text": [
      "[1, 3, 6, 3, 7, 0]\n",
      "[1, 6, 3, 7, 0]\n",
      "[1, 3, 7, 0]\n",
      "[1, 3, 7]\n"
     ]
    }
   ],
   "source": [
    "L = [2,1,3,6,3,7,0]\n",
    "L.remove(2)\n",
    "print(L)\n",
    "L.remove(3)\n",
    "print(L)\n",
    "del(L[1])\n",
    "print(L)\n",
    "L.pop()\n",
    "print(L)"
   ]
  },
  {
   "cell_type": "markdown",
   "metadata": {},
   "source": [
    "* Convert **string to list** with list(s), returns a list with every character from s an element in L.\n",
    "\n",
    "* Can use s.split(), to split a string on a character parameter, splits on spaces if called without a parameter.\n",
    "\n",
    "Other operations are: sort(), sorted(), reverse(), and many more. \n",
    "\n",
    "https://docs.python.org/2/tutorial/datastructures.html"
   ]
  },
  {
   "cell_type": "code",
   "execution_count": 13,
   "metadata": {},
   "outputs": [
    {
     "data": {
      "text/plain": [
       "[0, 3, 6, 9]"
      ]
     },
     "execution_count": 13,
     "metadata": {},
     "output_type": "execute_result"
    }
   ],
   "source": [
    "# Difference between sort and sorted\n",
    "L = [9,6,0,3]\n",
    "sorted(L)"
   ]
  },
  {
   "cell_type": "code",
   "execution_count": 14,
   "metadata": {},
   "outputs": [
    {
     "name": "stdout",
     "output_type": "stream",
     "text": [
      "[0, 3, 6, 9]\n"
     ]
    }
   ],
   "source": [
    "L.sort()\n",
    "print(L)"
   ]
  },
  {
   "cell_type": "code",
   "execution_count": 15,
   "metadata": {},
   "outputs": [
    {
     "name": "stdout",
     "output_type": "stream",
     "text": [
      "[9, 6, 3, 0]\n"
     ]
    }
   ],
   "source": [
    "L.reverse()\n",
    "print(L)"
   ]
  },
  {
   "cell_type": "markdown",
   "metadata": {},
   "source": [
    "* **range** is a special procedure:\n",
    "\n",
    "    * Returns something that behaves like a tuple.\n",
    "    \n",
    "    * Doesn't generate all elements at once, rather it generates the first element, and provides an iteration method by which subsequent elements can be generated. \n",
    "    \n",
    "    * While in a foor loop, what the loop variable iterates over behaves like a list.\n",
    "    "
   ]
  },
  {
   "cell_type": "markdown",
   "metadata": {},
   "source": [
    "%%latex \n",
    "\\newpage"
   ]
  },
  {
   "cell_type": "markdown",
   "metadata": {},
   "source": [
    "# Video 4: Mutation, Aliasing, Cloning\n",
    "\n",
    "**Lists in memory**\n",
    "\n",
    "* Mutable.\n",
    "\n",
    "* Behave differently than immutable types.\n",
    "\n",
    "* Is an object in memory.\n",
    "\n",
    "* Variable name points to object.\n",
    "\n",
    "* Any variable pointing to that object is affected.\n",
    "\n",
    "* Key phrase to keep in mind when working with lists is **side effects**. \n",
    "\n",
    "---\n",
    "\n",
    "We are gonna look into three ideas: first aliasing, then mutation, then cloning."
   ]
  },
  {
   "cell_type": "code",
   "execution_count": 16,
   "metadata": {},
   "outputs": [
    {
     "name": "stdout",
     "output_type": "stream",
     "text": [
      "['red', 'yellow', 'orange']\n",
      "['red', 'yellow', 'orange']\n"
     ]
    }
   ],
   "source": [
    "warm = ['red','yellow','orange']\n",
    "hot = warm\n",
    "print(warm)\n",
    "print(hot)\n"
   ]
  },
  {
   "cell_type": "code",
   "execution_count": 17,
   "metadata": {},
   "outputs": [
    {
     "name": "stdout",
     "output_type": "stream",
     "text": [
      "['red', 'yellow', 'orange', 'pink']\n",
      "['red', 'yellow', 'orange', 'pink']\n"
     ]
    }
   ],
   "source": [
    "hot.append('pink')\n",
    "print(hot)\n",
    "print(warm)"
   ]
  },
  {
   "cell_type": "markdown",
   "metadata": {},
   "source": [
    "*hot* is an **alias** for *warm.\n",
    "\n",
    "---\n",
    "\n",
    "Another concept: \"If two lists print the same thing, that does not mean they are the same structure.\"\n",
    "\n",
    "This is because there are 2 different slots in memory, one being accesed through each one of these handles."
   ]
  },
  {
   "cell_type": "code",
   "execution_count": 18,
   "metadata": {},
   "outputs": [
    {
     "name": "stdout",
     "output_type": "stream",
     "text": [
      "['blue', 'green', 'grey']\n",
      "['blue', 'green', 'grey']\n"
     ]
    }
   ],
   "source": [
    "cool = ['blue','green','grey']\n",
    "chill = ['blue','green','grey']\n",
    "print(cool)\n",
    "print(chill)"
   ]
  },
  {
   "cell_type": "code",
   "execution_count": 19,
   "metadata": {},
   "outputs": [
    {
     "name": "stdout",
     "output_type": "stream",
     "text": [
      "['blue', 'green', 'grey', 'white']\n",
      "['blue', 'green', 'grey']\n"
     ]
    }
   ],
   "source": [
    "cool.append('white')\n",
    "print(cool)\n",
    "print(chill)"
   ]
  },
  {
   "cell_type": "markdown",
   "metadata": {},
   "source": [
    "Another idea in this realm is **cloning a list**, which creates a new list and **copies every element**."
   ]
  },
  {
   "cell_type": "code",
   "execution_count": 22,
   "metadata": {},
   "outputs": [
    {
     "name": "stdout",
     "output_type": "stream",
     "text": [
      "['blue', 'green', 'grey']\n",
      "['blue', 'green', 'grey']\n"
     ]
    }
   ],
   "source": [
    "cool = ['blue','green','grey']\n",
    "chill = cool[:]\n",
    "print(cool)\n",
    "print(chill)"
   ]
  },
  {
   "cell_type": "code",
   "execution_count": 23,
   "metadata": {},
   "outputs": [
    {
     "name": "stdout",
     "output_type": "stream",
     "text": [
      "['blue', 'green', 'grey', 'black']\n",
      "['blue', 'green', 'grey']\n"
     ]
    }
   ],
   "source": [
    "chill.append('black')\n",
    "print(chill)\n",
    "print(cool)"
   ]
  },
  {
   "cell_type": "markdown",
   "metadata": {},
   "source": [
    "---\n",
    "\n",
    "**Sorting lists**\n",
    "\n",
    "* calling sort() **mutates** the list, returns nothing.\n",
    "\n",
    "* calling sorted() **does not mutate** list, must assign result to a variable.\n",
    "\n",
    "---\n",
    "\n",
    "Careful with lists of lists!"
   ]
  },
  {
   "cell_type": "code",
   "execution_count": 24,
   "metadata": {},
   "outputs": [
    {
     "name": "stdout",
     "output_type": "stream",
     "text": [
      "['yellow', 'orange']\n",
      "['red']\n",
      "[['yellow', 'orange']]\n"
     ]
    }
   ],
   "source": [
    "warm = ['yellow','orange']\n",
    "hot = ['red']\n",
    "brightcolors = [warm]\n",
    "print(warm)\n",
    "print(hot)\n",
    "print(brightcolors)"
   ]
  },
  {
   "cell_type": "markdown",
   "metadata": {},
   "source": [
    "Now let's add something to brightcolors"
   ]
  },
  {
   "cell_type": "code",
   "execution_count": 25,
   "metadata": {},
   "outputs": [
    {
     "name": "stdout",
     "output_type": "stream",
     "text": [
      "[['yellow', 'orange'], ['red']]\n"
     ]
    }
   ],
   "source": [
    "brightcolors.append(hot)\n",
    "print(brightcolors)"
   ]
  },
  {
   "cell_type": "code",
   "execution_count": 26,
   "metadata": {},
   "outputs": [
    {
     "name": "stdout",
     "output_type": "stream",
     "text": [
      "['red', 'pink']\n"
     ]
    }
   ],
   "source": [
    "hot.append('pink')\n",
    "print(hot)"
   ]
  },
  {
   "cell_type": "code",
   "execution_count": 27,
   "metadata": {},
   "outputs": [
    {
     "name": "stdout",
     "output_type": "stream",
     "text": [
      "[['yellow', 'orange'], ['red', 'pink']]\n"
     ]
    }
   ],
   "source": [
    "print(brightcolors)"
   ]
  },
  {
   "cell_type": "markdown",
   "metadata": {},
   "source": [
    "When I change hot, I also indirectly changed brightcolors. This is **aliasing** and we need to be careful about it."
   ]
  },
  {
   "cell_type": "code",
   "execution_count": 28,
   "metadata": {},
   "outputs": [
    {
     "name": "stdout",
     "output_type": "stream",
     "text": [
      "['red', 'pink', 'yellow', 'orange']\n"
     ]
    }
   ],
   "source": [
    "print(hot+warm)"
   ]
  },
  {
   "cell_type": "markdown",
   "metadata": {},
   "source": [
    "---\n",
    "\n",
    "Lastly, avoid mutating a list as you are iterating over it. "
   ]
  },
  {
   "cell_type": "code",
   "execution_count": 29,
   "metadata": {},
   "outputs": [
    {
     "name": "stdout",
     "output_type": "stream",
     "text": [
      "[2, 3, 4]\n"
     ]
    }
   ],
   "source": [
    "def remove_dups(L1,L2):\n",
    "    for e in L1:\n",
    "        if e in L2:\n",
    "            L1.remove(e)\n",
    "L1 = [1,2,3,4]\n",
    "L2 = [1,2,5,6]\n",
    "remove_dups(L1,L2)\n",
    "print(L1)"
   ]
  },
  {
   "cell_type": "markdown",
   "metadata": {},
   "source": [
    "Why was number 2 not deleted? \n",
    "\n",
    "* Python uses an internal counter to keep track of the index it is in the loop.\n",
    "\n",
    "* Mutating changes the list length but Python doesn't update the counter.\n",
    "\n",
    "* Loop never sees element 2. \n",
    "\n",
    "How do I solve this? I make a copy before mutating it."
   ]
  },
  {
   "cell_type": "code",
   "execution_count": 30,
   "metadata": {},
   "outputs": [
    {
     "name": "stdout",
     "output_type": "stream",
     "text": [
      "[3, 4]\n"
     ]
    }
   ],
   "source": [
    "def remove_dups_new(L1,L2):\n",
    "    L1_copy = L1[:]\n",
    "    for e in L1_copy:\n",
    "        if e in L2:\n",
    "            L1.remove(e)\n",
    "L1 = [1,2,3,4]\n",
    "L2 = [1,2,5,6]\n",
    "remove_dups_new(L1,L2)\n",
    "print(L1)"
   ]
  },
  {
   "cell_type": "markdown",
   "metadata": {},
   "source": [
    "%%latex \n",
    "\\newpage"
   ]
  },
  {
   "cell_type": "markdown",
   "metadata": {},
   "source": [
    "# Video 5: Functions as Objects\n",
    "\n",
    "Functions are **first class objects**:\n",
    "\n",
    "* Have types.\n",
    "\n",
    "* Can be elements of data structures like lists.\n",
    "\n",
    "* Can appear in expressions: part of an assignment statement, or as an argument to a function.\n",
    "\n",
    "Particularly useful to use functions as arguments when coupled with lists, aka **higher order programming**."
   ]
  },
  {
   "cell_type": "code",
   "execution_count": 3,
   "metadata": {},
   "outputs": [
    {
     "name": "stdout",
     "output_type": "stream",
     "text": [
      "[1, 2, 3.4]\n",
      "[1, 2, 3]\n"
     ]
    }
   ],
   "source": [
    "def applyToEach(L, f):\n",
    "    \"\"\"assumes L is a list, f a function\n",
    "    mutates L by replacing each element,\n",
    "    e, of L by f(e)\"\"\"\n",
    "    for i in range(len(L)):\n",
    "        L[i] = f(L[i])\n",
    "\n",
    "L = [1,-2,3.4]\n",
    "applyToEach(L,abs)\n",
    "print(L)\n",
    "applyToEach(L,int)\n",
    "print(L)"
   ]
  },
  {
   "cell_type": "markdown",
   "metadata": {},
   "source": [
    "It could be done the other way too, applying a list of functions to a given argument. This idea can be generalized.\n",
    "\n",
    "---\n",
    "\n",
    "Python provides a general purpose HOP (higher order procedure), *map*. "
   ]
  },
  {
   "cell_type": "code",
   "execution_count": 5,
   "metadata": {},
   "outputs": [
    {
     "name": "stdout",
     "output_type": "stream",
     "text": [
      "1\n",
      "2\n",
      "3\n",
      "4\n"
     ]
    }
   ],
   "source": [
    "map(abs,[1,-2,3,-4])\n",
    "# Produces an iterable\n",
    "for elt in map(abs,[1,-2,3,-4]):\n",
    "    print(elt)"
   ]
  },
  {
   "cell_type": "markdown",
   "metadata": {},
   "source": [
    "Another example is the following:"
   ]
  },
  {
   "cell_type": "code",
   "execution_count": 6,
   "metadata": {},
   "outputs": [
    {
     "name": "stdout",
     "output_type": "stream",
     "text": [
      "1\n",
      "28\n",
      "9\n"
     ]
    }
   ],
   "source": [
    "L1 = [1,28,36]\n",
    "L2 = [2,57,9]\n",
    "for elt in map(min,L1,L2):\n",
    "    print(elt)"
   ]
  },
  {
   "cell_type": "markdown",
   "metadata": {},
   "source": [
    "%%latex \n",
    "\\newpage"
   ]
  },
  {
   "cell_type": "markdown",
   "metadata": {},
   "source": [
    "# Video 6: Quick Review\n",
    "\n",
    "**Strings, tuples, ranges, lists**\n",
    "\n",
    "* Can get the ith element.\n",
    "\n",
    "* Can get its length.\n",
    "\n",
    "* Can concatenate them (not range).\n",
    "\n",
    "* Can repeat them n times (not range).\n",
    "\n",
    "* Can slice them.\n",
    "\n",
    "* Can ask if an element is within them.\n",
    "\n",
    "* Can iterate over its elements.\n",
    "\n",
    "* Only lists are **mutable**."
   ]
  },
  {
   "cell_type": "markdown",
   "metadata": {},
   "source": [
    "%%latex \n",
    "\\newpage"
   ]
  },
  {
   "cell_type": "markdown",
   "metadata": {},
   "source": [
    "# Video 7: Dictionaries\n",
    "\n",
    "Using multiple lists to keep information can be **messy**. It forces me to maintain many lists and use integers as indexes. It also forces me to remember to change multiple lists everytime I need to make a change.\n",
    "\n",
    "---\n",
    "\n",
    "**Dictionaries**\n",
    "\n",
    "* Nice to index item of interest directly (not necesarily in *int*). We call the index *keys* when refering to dictionaries.\n",
    "\n",
    "* Nice to use one data structure instead of many separate lists. \n",
    "\n",
    "* Stores pairs of data - key & value."
   ]
  },
  {
   "cell_type": "code",
   "execution_count": 2,
   "metadata": {},
   "outputs": [
    {
     "name": "stdout",
     "output_type": "stream",
     "text": [
      "A+\n"
     ]
    }
   ],
   "source": [
    "grades = {'Ana':'B', 'John':'A+', 'Denise':'A', 'Katy':'A'}\n",
    "print(grades['John'])"
   ]
  },
  {
   "cell_type": "code",
   "execution_count": 3,
   "metadata": {},
   "outputs": [
    {
     "name": "stdout",
     "output_type": "stream",
     "text": [
      "A\n"
     ]
    }
   ],
   "source": [
    "grades['Sylvan'] = 'A'\n",
    "print(grades['Sylvan'])"
   ]
  },
  {
   "cell_type": "code",
   "execution_count": 4,
   "metadata": {},
   "outputs": [
    {
     "data": {
      "text/plain": [
       "True"
      ]
     },
     "execution_count": 4,
     "metadata": {},
     "output_type": "execute_result"
    }
   ],
   "source": [
    "# Can test if a key is in dictionary\n",
    "'John' in grades"
   ]
  },
  {
   "cell_type": "code",
   "execution_count": 5,
   "metadata": {},
   "outputs": [
    {
     "data": {
      "text/plain": [
       "False"
      ]
     },
     "execution_count": 5,
     "metadata": {},
     "output_type": "execute_result"
    }
   ],
   "source": [
    "'Jorge' in grades"
   ]
  },
  {
   "cell_type": "code",
   "execution_count": 6,
   "metadata": {},
   "outputs": [
    {
     "name": "stdout",
     "output_type": "stream",
     "text": [
      "{'John': 'A+', 'Denise': 'A', 'Katy': 'A', 'Sylvan': 'A'}\n"
     ]
    }
   ],
   "source": [
    "# Remove an entry\n",
    "del(grades['Ana'])\n",
    "print(grades)"
   ]
  },
  {
   "cell_type": "code",
   "execution_count": 7,
   "metadata": {},
   "outputs": [
    {
     "data": {
      "text/plain": [
       "dict_keys(['John', 'Denise', 'Katy', 'Sylvan'])"
      ]
     },
     "execution_count": 7,
     "metadata": {},
     "output_type": "execute_result"
    }
   ],
   "source": [
    "# Can also get the keys - Gives me an iterable!\n",
    "grades.keys()"
   ]
  },
  {
   "cell_type": "code",
   "execution_count": null,
   "metadata": {},
   "outputs": [],
   "source": [
    "# Can also get the values - Gives me an iterable!\n",
    "grades.values()"
   ]
  },
  {
   "cell_type": "markdown",
   "metadata": {},
   "source": [
    "**Values**\n",
    "\n",
    "* Can be any type (immutable and mutable).\n",
    "\n",
    "* Can be duplicates.\n",
    "\n",
    "* Can be lists, even other dictionaries.\n",
    "\n",
    "**Keys** \n",
    "\n",
    "* Must be **unique**.\n",
    "\n",
    "* **Immutable** type (int, float, string, tuple, bool).\n",
    "\n",
    "* Careful with float type as a key.\n",
    "\n",
    "* **No order** to keys or values!"
   ]
  },
  {
   "cell_type": "markdown",
   "metadata": {},
   "source": [
    "%%latex \n",
    "\\newpage"
   ]
  },
  {
   "cell_type": "markdown",
   "metadata": {},
   "source": [
    "# Video 8: Example with a Dictionary\n",
    "\n",
    "1. Create a frequency dictionary.\n",
    "\n",
    "2. Find word that occurs the most and how many times.\n",
    "\n",
    "3. Find the words that occur at least X times."
   ]
  },
  {
   "cell_type": "code",
   "execution_count": 12,
   "metadata": {},
   "outputs": [
    {
     "name": "stdout",
     "output_type": "stream",
     "text": [
      "{'she': 20, 'loves': 13, 'you': 36, 'yeah': 28, 'think': 2, \"you've\": 1, 'lost': 2, 'your': 1, 'love': 5, 'well': 1, 'i': 2, 'saw': 1, 'her': 4, 'yesterday-yi-yay': 1, \"it's\": 3, \"she's\": 1, 'thinking': 1, 'of': 1, 'and': 8, 'told': 1, 'me': 1, 'what': 1, 'to': 3, 'say-yi-yay': 1, 'says': 3, 'know': 11, 'that': 7, \"can't\": 3, 'be': 10, 'bad': 3, 'yes': 2, 'should': 7, 'glad': 7, 'said': 1, 'hurt': 2, 'so': 1, 'almost': 1, 'mind': 1, 'now': 1, 'knows': 1, \"you're\": 1, 'not': 1, 'the': 1, 'hurting': 1, 'kind': 1, 'oo': 2, 'with': 4, 'a': 4, 'like': 4, 'up': 1, 'only': 1, 'fair': 1, 'pride': 1, 'can': 1, 'too': 1, 'pologize': 1, 'Because': 1, 'Yes': 1}\n"
     ]
    }
   ],
   "source": [
    "def lyrics_to_frequencies(lyrics):\n",
    "    myDict = {}\n",
    "    for word in lyrics:\n",
    "        if word in myDict:\n",
    "            myDict[word] += 1\n",
    "        else:\n",
    "            myDict[word] = 1\n",
    "    return myDict\n",
    "    \n",
    "    \n",
    "she_loves_you = ['she', 'loves', 'you', 'yeah', 'yeah', 'yeah',\n",
    "'she', 'loves', 'you', 'yeah', 'yeah', 'yeah',\n",
    "'she', 'loves', 'you', 'yeah', 'yeah', 'yeah',\n",
    "\n",
    "'you', 'think', \"you've\", 'lost', 'your', 'love',\n",
    "'well', 'i', 'saw', 'her', 'yesterday-yi-yay',\n",
    "\"it's\", 'you', \"she's\", 'thinking', 'of',\n",
    "'and', 'she', 'told', 'me', 'what', 'to', 'say-yi-yay',\n",
    "\n",
    "'she', 'says', 'she', 'loves', 'you',\n",
    "'and', 'you', 'know', 'that', \"can't\", 'be', 'bad',\n",
    "'yes', 'she', 'loves', 'you',\n",
    "'and', 'you', 'know', 'you', 'should', 'be', 'glad',\n",
    "\n",
    "'she', 'said', 'you', 'hurt', 'her', 'so',\n",
    "'she', 'almost', 'lost', 'her', 'mind',\n",
    "'and', 'now', 'she', 'says', 'she', 'knows',\n",
    "\"you're\", 'not', 'the', 'hurting', 'kind',\n",
    "\n",
    "'she', 'says', 'she', 'loves', 'you',\n",
    "'and', 'you', 'know', 'that', \"can't\", 'be', 'bad',\n",
    "'yes', 'she', 'loves', 'you',\n",
    "'and', 'you', 'know', 'you', 'should', 'be', 'glad',\n",
    "\n",
    "'oo', 'she', 'loves', 'you', 'yeah', 'yeah', 'yeah',\n",
    "'she', 'loves', 'you', 'yeah', 'yeah', 'yeah',\n",
    "'with', 'a', 'love', 'like', 'that',\n",
    "'you', 'know', 'you', 'should', 'be', 'glad',\n",
    "\n",
    "'you', 'know', \"it's\", 'up', 'to', 'you',\n",
    "'i', 'think', \"it's\", 'only', 'fair',\n",
    "'pride', 'can', 'hurt', 'you', 'too',\n",
    "'pologize', 'to', 'her',\n",
    "\n",
    "'Because', 'she', 'loves', 'you',\n",
    "'and', 'you', 'know', 'that', \"can't\", 'be', 'bad',\n",
    "'Yes', 'she', 'loves', 'you',\n",
    "'and', 'you', 'know', 'you', 'should', 'be', 'glad',\n",
    "\n",
    "'oo', 'she', 'loves', 'you', 'yeah', 'yeah', 'yeah',\n",
    "'she', 'loves', 'you', 'yeah', 'yeah', 'yeah',\n",
    "'with', 'a', 'love', 'like', 'that',\n",
    "'you', 'know', 'you', 'should', 'be', 'glad',\n",
    "'with', 'a', 'love', 'like', 'that',\n",
    "'you', 'know', 'you', 'should', 'be', 'glad',\n",
    "'with', 'a', 'love', 'like', 'that',\n",
    "'you', 'know', 'you', 'should', 'be', 'glad',\n",
    "'yeah', 'yeah', 'yeah',\n",
    "'yeah', 'yeah', 'yeah', 'yeah'\n",
    "]\n",
    "\n",
    "beatles = lyrics_to_frequencies(she_loves_you)\n",
    "print (beatles)"
   ]
  },
  {
   "cell_type": "code",
   "execution_count": 15,
   "metadata": {},
   "outputs": [
    {
     "name": "stdout",
     "output_type": "stream",
     "text": [
      "['her', 'with', 'a', 'like'] 4\n"
     ]
    }
   ],
   "source": [
    "# How to define the most common words?\n",
    "\n",
    "def most_common_words(freqs):\n",
    "    # First I find the number of repetition\n",
    "    values = freqs.values()\n",
    "    best = max(freqs.values())\n",
    "    words = []\n",
    "    # Now I find which words reached that number\n",
    "    for k in freqs:\n",
    "        if freqs[k] == best:\n",
    "            words.append(k)\n",
    "    return (words, best)\n",
    "\n",
    "(w,b) = most_common_words(beatles)\n",
    "print(w,b)"
   ]
  },
  {
   "cell_type": "code",
   "execution_count": 17,
   "metadata": {},
   "outputs": [
    {
     "name": "stdout",
     "output_type": "stream",
     "text": [
      "[]\n"
     ]
    }
   ],
   "source": [
    "def words_often(freqs, minTimes):\n",
    "    result = []\n",
    "    done = False\n",
    "    while not done:\n",
    "        temp = most_common_words(freqs)\n",
    "        if temp[1] >= minTimes:\n",
    "            result.append(temp)\n",
    "            for w in temp[0]:\n",
    "                del(freqs[w])  #remove word from dictionary\n",
    "        else:\n",
    "            done = True\n",
    "    return result\n",
    "    \n",
    "print(words_often(beatles, 5))"
   ]
  },
  {
   "cell_type": "markdown",
   "metadata": {},
   "source": [
    "%%latex \n",
    "\\newpage"
   ]
  },
  {
   "cell_type": "markdown",
   "metadata": {},
   "source": [
    "# Video 8: Fibonacci and Dictionaries\n",
    "\n",
    "Going back to standard Fibonacci code to see why it is **inefficient**."
   ]
  },
  {
   "cell_type": "code",
   "execution_count": null,
   "metadata": {},
   "outputs": [],
   "source": [
    "def fib(n):\n",
    "    if n == 1:\n",
    "        return 1\n",
    "    elif n == 2:\n",
    "        return 2\n",
    "    else:\n",
    "        return fib(n-1) + fib(n-2)"
   ]
  },
  {
   "cell_type": "markdown",
   "metadata": {},
   "source": [
    "It is inefficient because many calculations are repeated over and over unnecesarily. It really starts getting slower.\n",
    "\n",
    "Instead of recalculating the same values many times, we can keep track of what we've already done."
   ]
  },
  {
   "cell_type": "code",
   "execution_count": 18,
   "metadata": {},
   "outputs": [
    {
     "name": "stdout",
     "output_type": "stream",
     "text": [
      "13\n"
     ]
    }
   ],
   "source": [
    "def fib_efficient(n, d):\n",
    "    # Do a lookup first in case I've already calculated the value\n",
    "    if n in d:\n",
    "        return d[n]\n",
    "    else:\n",
    "        # Modify dictionary as progress through function calls\n",
    "        ans = fib_efficient(n-1, d) + fib_efficient(n-2, d)\n",
    "        d[n] = ans\n",
    "        return ans\n",
    "\n",
    "# The base cases need to be added to the initial dictionary    \n",
    "d = {1:1, 2:2}\n",
    "print(fib_efficient(6, d))"
   ]
  },
  {
   "cell_type": "markdown",
   "metadata": {},
   "source": [
    "This is often called **memoization**: using the dictionary to hold on to values that I've already computed and I don't need to compute again."
   ]
  },
  {
   "cell_type": "markdown",
   "metadata": {},
   "source": [
    "%%latex \n",
    "\\newpage"
   ]
  },
  {
   "cell_type": "markdown",
   "metadata": {},
   "source": [
    "# Video 9: Global Variables\n",
    "\n",
    "**Can be dangerous to use**:\n",
    "\n",
    "* Breaks the scoping of variables by function call.\n",
    "\n",
    "* Allows for side effects of changing variables values in ways that affect other computation.\n",
    "\n",
    "But can be convenient when want to keep track of information inside a function. Let's use the Fibonacci efficient and standard form of the function to test this concept."
   ]
  },
  {
   "cell_type": "code",
   "execution_count": 27,
   "metadata": {},
   "outputs": [
    {
     "name": "stdout",
     "output_type": "stream",
     "text": [
      "1346269\n",
      "function calls 1664079\n",
      "1346269\n",
      "function calls 57\n"
     ]
    }
   ],
   "source": [
    "# Standard way\n",
    "def fib(n):\n",
    "    global numFibCalls\n",
    "    numFibCalls += 1\n",
    "    if n == 1:\n",
    "        return 1\n",
    "    elif n == 2:\n",
    "        return 2\n",
    "    else:\n",
    "        return fib(n-1)+fib(n-2)\n",
    "\n",
    "# Efficient way\n",
    "def fibef(n, d):\n",
    "    global numFibCalls\n",
    "    numFibCalls += 1\n",
    "    if n in d:\n",
    "        return d[n]\n",
    "    else:\n",
    "        ans = fibef(n-1,d)+fibef(n-2,d)\n",
    "        d[n] = ans\n",
    "        return ans\n",
    "\n",
    "# Testing the idea\n",
    "numFibCalls = 0\n",
    "fibArg = 30\n",
    "\n",
    "print(fib(fibArg))\n",
    "print('function calls', numFibCalls)\n",
    "\n",
    "numFibCalls = 0\n",
    "\n",
    "d = {1:1, 2:2}\n",
    "print(fibef(fibArg, d))\n",
    "print('function calls', numFibCalls)"
   ]
  }
 ],
 "metadata": {
  "kernelspec": {
   "display_name": "Python 3",
   "language": "python",
   "name": "python3"
  },
  "language_info": {
   "codemirror_mode": {
    "name": "ipython",
    "version": 3
   },
   "file_extension": ".py",
   "mimetype": "text/x-python",
   "name": "python",
   "nbconvert_exporter": "python",
   "pygments_lexer": "ipython3",
   "version": "3.7.6"
  }
 },
 "nbformat": 4,
 "nbformat_minor": 4
}

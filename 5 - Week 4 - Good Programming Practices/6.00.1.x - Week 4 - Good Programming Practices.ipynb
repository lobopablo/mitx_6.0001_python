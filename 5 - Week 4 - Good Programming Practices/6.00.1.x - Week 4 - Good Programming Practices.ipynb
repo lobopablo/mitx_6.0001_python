{
 "cells": [
  {
   "cell_type": "markdown",
   "metadata": {},
   "source": [
    "# Video 1: Programming Challenges \n",
    "\n",
    "Three strategies to keep your code free of bugs:\n",
    "\n",
    "1. Testing.\n",
    "\n",
    "    * Compare input/output pairs to specification.\n",
    "    \n",
    "    * How can I break my program?\n",
    "\n",
    "2. Defensive programming.\n",
    "\n",
    "    * Write specifications for functions.\n",
    "    \n",
    "    * Modularize programs.\n",
    "    \n",
    "    * Check conditions on inputs/outputs (assertions).\n",
    "\n",
    "3. Debugging.\n",
    "\n",
    "    * Study events leading up to an error.\n",
    "    \n",
    "    * \"Why is it not working?\"\n",
    "    \n",
    "    * \"How can I fix my program?\""
   ]
  },
  {
   "cell_type": "markdown",
   "metadata": {},
   "source": [
    "%%latex \n",
    "\\newpage"
   ]
  },
  {
   "cell_type": "markdown",
   "metadata": {},
   "source": [
    "# Video 2: Classes of Tests\n",
    "\n",
    "Setting yourself up for easy testing and debugging:\n",
    "\n",
    "* From the **start**, design ode to ease this part.\n",
    "\n",
    "* Break program into **modules** that can be tested and debugged individually.\n",
    "\n",
    "* Docuemnt constraints on modules.\n",
    "\n",
    "* Document assumptions behind code design. \n",
    "\n",
    "---\n",
    "\n",
    "When are you ready to test?\n",
    "\n",
    "* Ensure **code runs**.\n",
    "\n",
    "* Have a **set of expected results**.\n",
    "\n",
    "---\n",
    "\n",
    "Classes of tests\n",
    "\n",
    "* Unit testing.\n",
    "\n",
    "    * Validate each piece of program.\n",
    "    \n",
    "    * Testing each function separately.\n",
    "    \n",
    "* Regression testing.\n",
    "\n",
    "    * Add test for bugs as you find them in a function.\n",
    "    \n",
    "    * Catch reintroduced errors that were previously fixed.\n",
    "    \n",
    "* Integration testing.\n",
    "\n",
    "    * Does overall program work?\n",
    "    \n",
    "    * DON'T rush to do this, but do it eventually.\n",
    "    \n",
    "---\n",
    "\n",
    "Testing approaches\n",
    "\n",
    "* **Intuition** about natural boundaries to the problem.\n",
    "\n",
    "    * Can you come up with some natural partitions? \n",
    "\n",
    "* If no natural partitions, might do **random testing**.\n",
    "\n",
    "* **Black box testing**.\n",
    "\n",
    "    * Designed **without looking** at the code. \n",
    "    \n",
    "    * Can be done by someone other than the implementer to avoid some implementer **biases**.\n",
    "    \n",
    "    * Testing can be **reused** if implementation changes.\n",
    "    \n",
    "    * **Paths** through especification. \n",
    "    \n",
    "* **Glass box testing**.\n",
    "    \n",
    "    * **Use code** directly to guide design of test cases.\n",
    "    \n",
    "    * Called **path complete** if every potential through code is tested at least once.\n",
    "    \n",
    "    * Drawbacks: it can go through loops arbitrarily many times; you may also miss paths.\n",
    "    \n",
    "    * A path complete test suite could **miss a bug**. \n",
    "    \n",
    "---\n",
    "\n",
    "In glass box testing, we try to sample as many paths through the code as we can. In the case loops, we want to sample three cases:\n",
    "\n",
    "1. Not executing the loop at all.\n",
    "\n",
    "2. Executing the loop exactly once.\n",
    "\n",
    "3. Executing the loop multiple times."
   ]
  },
  {
   "cell_type": "markdown",
   "metadata": {},
   "source": [
    "%%latex \n",
    "\\newpage"
   ]
  },
  {
   "cell_type": "markdown",
   "metadata": {},
   "source": [
    "# Video 3: Bugs\n",
    "\n",
    "Once you know there are bugs, you will want to:\n",
    "\n",
    "* Isolate the bugs.\n",
    "\n",
    "* Eradicate the bugs.\n",
    "\n",
    "* Retest until code runs correctly.\n",
    "\n",
    "---\n",
    "\n",
    "**Overt vs. covert**\n",
    "\n",
    "* Overt has an obvious manifestation - code crashes or runs forever.\n",
    "\n",
    "* Covert has no obvious manifestation - code returns a value, which may be incorrect but hard to determine.\n",
    "\n",
    "**Persistent vs. intermittent**\n",
    "\n",
    "* Persistent occurs every time code is run.\n",
    "\n",
    "* Intermittent only occurs some times, even if run on same input."
   ]
  },
  {
   "cell_type": "markdown",
   "metadata": {},
   "source": [
    "%%latex \n",
    "\\newpage"
   ]
  },
  {
   "cell_type": "markdown",
   "metadata": {},
   "source": [
    "# Video 4: Debugging\n",
    "\n",
    "Some tools for debugging:\n",
    "\n",
    "* Built in to IDLE and Anaconda.\n",
    "\n",
    "* Python Tutor.\n",
    "\n",
    "* print statement.\n",
    "\n",
    "* use your brain, be systematic in your hunt.\n",
    "\n",
    "---\n",
    "\n",
    "**Print statements**\n",
    "\n",
    "* When to print:\n",
    "\n",
    "    * enter function.\n",
    "    \n",
    "    * parameters.\n",
    "    \n",
    "    * function results.\n",
    "    \n",
    "* Use bisection method:\n",
    "\n",
    "    * put print halfway in code.\n",
    "    \n",
    "    * decide where bug may be depending on values.\n",
    "    \n",
    "---\n",
    "\n",
    "Types of errors:\n",
    "\n",
    "* IndexError\n",
    "\n",
    "* TypeError\n",
    "\n",
    "* NameError\n",
    "\n",
    "* SyntaxError\n",
    "\n",
    "---\n",
    "\n",
    "Logic errors are hard:\n",
    "\n",
    "* Think before writing new code.\n",
    "\n",
    "* Draw pictures, take a break.\n",
    "\n",
    "* Explain the code to: someone else, a rubber ducky.\n",
    "\n",
    "---\n",
    "\n",
    "Debugging steps\n",
    "\n",
    "* Study program code.\n",
    "\n",
    "* Use the **scientific method** in order to debug."
   ]
  },
  {
   "cell_type": "markdown",
   "metadata": {},
   "source": [
    "%%latex \n",
    "\\newpage"
   ]
  },
  {
   "cell_type": "markdown",
   "metadata": {},
   "source": [
    "# Video 5: Debugging Example \n",
    "\n",
    "Treat as a search problem: looking for explanation for incorrect behavior.\n",
    "\n",
    "* Study available data.\n",
    "\n",
    "* Form an hypothesis consistent with the data.\n",
    "\n",
    "* Design and run a repeatable experiment with potential to refute the hypothesis.\n",
    "\n",
    "* Keep record of experiments performed: use narrow range of hypotheses. "
   ]
  },
  {
   "cell_type": "markdown",
   "metadata": {},
   "source": [
    "%%latex \n",
    "\\newpage"
   ]
  },
  {
   "cell_type": "markdown",
   "metadata": {},
   "source": [
    "# Video 6: Exceptions\n",
    "\n",
    "**Exceptions**\n",
    "\n",
    "What happens when procedure execution hits an **unexpected condition**?\n",
    "\n",
    "Get an exception to what was expected:\n",
    "\n",
    "* Trying to access beyond list limits.\n",
    "\n",
    "* Trying to convert an inappropriate type.\n",
    "\n",
    "* Referencing a non-existing variable.\n",
    "\n",
    "* Mixing data types without coercion.\n",
    "\n",
    "---\n",
    "\n",
    "Other types of exceptions:\n",
    "\n",
    "* SyntaxError.\n",
    "\n",
    "* NameError.\n",
    "\n",
    "* AttributeError.\n",
    "\n",
    "* TypeError.\n",
    "\n",
    "* ValueError.\n",
    "\n",
    "* IOError.\n",
    "\n",
    "---\n",
    "\n",
    "What to do with exceptions?\n",
    "\n",
    "* Fail silently: bad idea. User gets no warning.\n",
    "\n",
    "* Return an **error** value: complicates code having to check for a special value.\n",
    "\n",
    "* Stop execution, **signal error** condition. In Python: **raise an exception**."
   ]
  },
  {
   "cell_type": "code",
   "execution_count": 2,
   "metadata": {},
   "outputs": [
    {
     "output_type": "error",
     "ename": "Exception",
     "evalue": "descriptive String",
     "traceback": [
      "\u001b[1;31m---------------------------------------------------------------------------\u001b[0m",
      "\u001b[1;31mException\u001b[0m                                 Traceback (most recent call last)",
      "\u001b[1;32m<ipython-input-2-6295980b03e8>\u001b[0m in \u001b[0;36m<module>\u001b[1;34m\u001b[0m\n\u001b[1;32m----> 1\u001b[1;33m \u001b[1;32mraise\u001b[0m \u001b[0mException\u001b[0m\u001b[1;33m(\u001b[0m\u001b[1;34m\"descriptive String\"\u001b[0m\u001b[1;33m)\u001b[0m\u001b[1;33m\u001b[0m\u001b[1;33m\u001b[0m\u001b[0m\n\u001b[0m",
      "\u001b[1;31mException\u001b[0m: descriptive String"
     ]
    }
   ],
   "source": [
    "raise Exception(\"descriptive String\")"
   ]
  },
  {
   "cell_type": "code",
   "execution_count": 3,
   "metadata": {},
   "outputs": [
    {
     "name": "stdout",
     "output_type": "stream",
     "text": [
      "Tell me one number:0\n",
      "Tell me another number:1\n",
      "0.0\n",
      "Okay\n",
      "Outside\n"
     ]
    }
   ],
   "source": [
    "try:\n",
    "    a = int(input('Tell me one number:'))\n",
    "    b = int(input('Tell me another number:'))\n",
    "    print(a/b)\n",
    "    print ('Okay')\n",
    "except:\n",
    "    print('Bug in user input.')\n",
    "print('Outside')"
   ]
  },
  {
   "cell_type": "markdown",
   "metadata": {},
   "source": [
    "Exceptions **raised** by any statement in body of **try** are **handled** by the **except** statement and execution continues after the body of the except statement. Very useful!\n",
    "\n",
    "This can also be done saying the type of error after the except, to distinguish between the different exceptions that might come up.\n",
    "\n",
    "Other options are:\n",
    "\n",
    "* else: body of this is executed when executions of associated **try** body **completes with no exceptions**.\n",
    "\n",
    "* finally: body of this is **always executed** after try, else and except clauses, even if they raised another rror or executed a break, continue or return. This is useful for clean-up code that should be run no matter what else happened (e.g. close a file)."
   ]
  },
  {
   "cell_type": "markdown",
   "metadata": {},
   "source": [
    "%%latex \n",
    "\\newpage"
   ]
  },
  {
   "cell_type": "markdown",
   "metadata": {},
   "source": [
    "# Video 7: Exceptions Examples\n",
    "\n",
    "First example of how to use the structure mentioned in the video 6."
   ]
  },
  {
   "cell_type": "code",
   "execution_count": 4,
   "metadata": {},
   "outputs": [
    {
     "name": "stdout",
     "output_type": "stream",
     "text": [
      "Please enter an integer: 2\n",
      "Correct input of an integer!\n"
     ]
    }
   ],
   "source": [
    "while True:\n",
    "    try:\n",
    "        n = input('Please enter an integer: ')\n",
    "        n = int(n)\n",
    "        break\n",
    "    except ValueError:\n",
    "        print('Input not an integer; try again')\n",
    "print('Correct input of an integer!')"
   ]
  },
  {
   "cell_type": "markdown",
   "metadata": {},
   "source": [
    "This only handles ValueErrors. \n",
    "\n",
    "---\n",
    "\n",
    "A really nice example of how to use this to actually implement code is shown in the following case."
   ]
  },
  {
   "cell_type": "code",
   "execution_count": 5,
   "metadata": {},
   "outputs": [
    {
     "name": "stdout",
     "output_type": "stream",
     "text": [
      "Provide a name of a file of data a\n",
      "cannot open a\n"
     ]
    },
    {
     "ename": "NameError",
     "evalue": "name 'fh' is not defined",
     "output_type": "error",
     "traceback": [
      "\u001b[1;31m---------------------------------------------------------------------------\u001b[0m",
      "\u001b[1;31mNameError\u001b[0m                                 Traceback (most recent call last)",
      "\u001b[1;32m<ipython-input-5-ac0d75feac4c>\u001b[0m in \u001b[0;36m<module>\u001b[1;34m\u001b[0m\n\u001b[0;32m     12\u001b[0m             \u001b[0mdata\u001b[0m\u001b[1;33m.\u001b[0m\u001b[0mappend\u001b[0m\u001b[1;33m(\u001b[0m\u001b[0maddIt\u001b[0m\u001b[1;33m)\u001b[0m\u001b[1;33m\u001b[0m\u001b[1;33m\u001b[0m\u001b[0m\n\u001b[0;32m     13\u001b[0m \u001b[1;32mfinally\u001b[0m\u001b[1;33m:\u001b[0m\u001b[1;33m\u001b[0m\u001b[1;33m\u001b[0m\u001b[0m\n\u001b[1;32m---> 14\u001b[1;33m     \u001b[0mfh\u001b[0m\u001b[1;33m.\u001b[0m\u001b[0mclose\u001b[0m\u001b[1;33m(\u001b[0m\u001b[1;33m)\u001b[0m \u001b[1;31m# close file even if fail\u001b[0m\u001b[1;33m\u001b[0m\u001b[1;33m\u001b[0m\u001b[0m\n\u001b[0m\u001b[0;32m     15\u001b[0m \u001b[1;33m\u001b[0m\u001b[0m\n\u001b[0;32m     16\u001b[0m \u001b[0mgradesData\u001b[0m \u001b[1;33m=\u001b[0m \u001b[1;33m[\u001b[0m\u001b[1;33m]\u001b[0m\u001b[1;33m\u001b[0m\u001b[1;33m\u001b[0m\u001b[0m\n",
      "\u001b[1;31mNameError\u001b[0m: name 'fh' is not defined"
     ]
    }
   ],
   "source": [
    "data = []\n",
    "file_name = input('Provide a name of a file of data ')\n",
    "\n",
    "try:\n",
    "    fh = open(file_name, 'r')\n",
    "except IOError:\n",
    "    print('cannot open', file_name)\n",
    "else:\n",
    "    for new in fh:\n",
    "        if new != '\\n':\n",
    "            addIt = new[:-1].split(',') #remove trailing \\n\n",
    "            data.append(addIt)\n",
    "finally:\n",
    "    fh.close() # close file even if fail\n",
    "    \n",
    "gradesData = []\n",
    "if data:\n",
    "    for student in data:\n",
    "        try:\n",
    "            name = student[0:-1]\n",
    "            grades = int(student[-1])\n",
    "            gradesData.append([name, [grades]])\n",
    "        except ValueError:\n",
    "            gradesData.append([student[:], []])"
   ]
  },
  {
   "cell_type": "markdown",
   "metadata": {},
   "source": [
    "%%latex \n",
    "\\newpage"
   ]
  },
  {
   "cell_type": "markdown",
   "metadata": {},
   "source": [
    "# Video 8: Exceptions as Control Flow\n",
    "\n",
    "A new keyword: raise.\n",
    "\n",
    "* Don't return special values when an error occurred and then check whether 'error value' was returned.\n",
    "\n",
    "* Instead, **raise an exception** when unable to produce a result consistent with function's specification.\n",
    "\n",
    "Example:"
   ]
  },
  {
   "cell_type": "code",
   "execution_count": 6,
   "metadata": {},
   "outputs": [
    {
     "data": {
      "text/plain": [
       "[0.2, 0.3333333333333333, 0.42857142857142855, 0.5]"
      ]
     },
     "execution_count": 6,
     "metadata": {},
     "output_type": "execute_result"
    }
   ],
   "source": [
    "def get_ratios(L1, L2):\n",
    "    ratios = []\n",
    "    for index in range(len(L1)):\n",
    "        try:\n",
    "            ratios.append(L1[index]/float(L2[index]))\n",
    "        except ZeroDivisionError:\n",
    "            ratios.append(float('NaN')) #NaN = Not a Number\n",
    "        except:\n",
    "            raise ValueError('get_ratios called with bad arg')\n",
    "    return ratios\n",
    "\n",
    "L1 = [1,2,3,4]\n",
    "L2 = [5,6,7,8]\n",
    "get_ratios(L1,L2)"
   ]
  },
  {
   "cell_type": "code",
   "execution_count": 7,
   "metadata": {},
   "outputs": [
    {
     "ename": "ValueError",
     "evalue": "get_ratios called with bad arg",
     "output_type": "error",
     "traceback": [
      "\u001b[1;31m---------------------------------------------------------------------------\u001b[0m",
      "\u001b[1;31mIndexError\u001b[0m                                Traceback (most recent call last)",
      "\u001b[1;32m<ipython-input-6-049f68bfb879>\u001b[0m in \u001b[0;36mget_ratios\u001b[1;34m(L1, L2)\u001b[0m\n\u001b[0;32m      4\u001b[0m         \u001b[1;32mtry\u001b[0m\u001b[1;33m:\u001b[0m\u001b[1;33m\u001b[0m\u001b[1;33m\u001b[0m\u001b[0m\n\u001b[1;32m----> 5\u001b[1;33m             \u001b[0mratios\u001b[0m\u001b[1;33m.\u001b[0m\u001b[0mappend\u001b[0m\u001b[1;33m(\u001b[0m\u001b[0mL1\u001b[0m\u001b[1;33m[\u001b[0m\u001b[0mindex\u001b[0m\u001b[1;33m]\u001b[0m\u001b[1;33m/\u001b[0m\u001b[0mfloat\u001b[0m\u001b[1;33m(\u001b[0m\u001b[0mL2\u001b[0m\u001b[1;33m[\u001b[0m\u001b[0mindex\u001b[0m\u001b[1;33m]\u001b[0m\u001b[1;33m)\u001b[0m\u001b[1;33m)\u001b[0m\u001b[1;33m\u001b[0m\u001b[1;33m\u001b[0m\u001b[0m\n\u001b[0m\u001b[0;32m      6\u001b[0m         \u001b[1;32mexcept\u001b[0m \u001b[0mZeroDivisionError\u001b[0m\u001b[1;33m:\u001b[0m\u001b[1;33m\u001b[0m\u001b[1;33m\u001b[0m\u001b[0m\n",
      "\u001b[1;31mIndexError\u001b[0m: list index out of range",
      "\nDuring handling of the above exception, another exception occurred:\n",
      "\u001b[1;31mValueError\u001b[0m                                Traceback (most recent call last)",
      "\u001b[1;32m<ipython-input-7-f74906737b77>\u001b[0m in \u001b[0;36m<module>\u001b[1;34m\u001b[0m\n\u001b[0;32m      1\u001b[0m \u001b[0mL3\u001b[0m \u001b[1;33m=\u001b[0m \u001b[1;33m[\u001b[0m\u001b[1;36m5\u001b[0m\u001b[1;33m,\u001b[0m\u001b[1;36m6\u001b[0m\u001b[1;33m,\u001b[0m\u001b[1;36m7\u001b[0m\u001b[1;33m]\u001b[0m\u001b[1;33m\u001b[0m\u001b[1;33m\u001b[0m\u001b[0m\n\u001b[1;32m----> 2\u001b[1;33m \u001b[0mget_ratios\u001b[0m\u001b[1;33m(\u001b[0m\u001b[0mL1\u001b[0m\u001b[1;33m,\u001b[0m\u001b[0mL3\u001b[0m\u001b[1;33m)\u001b[0m\u001b[1;33m\u001b[0m\u001b[1;33m\u001b[0m\u001b[0m\n\u001b[0m",
      "\u001b[1;32m<ipython-input-6-049f68bfb879>\u001b[0m in \u001b[0;36mget_ratios\u001b[1;34m(L1, L2)\u001b[0m\n\u001b[0;32m      7\u001b[0m             \u001b[0mratios\u001b[0m\u001b[1;33m.\u001b[0m\u001b[0mappend\u001b[0m\u001b[1;33m(\u001b[0m\u001b[0mfloat\u001b[0m\u001b[1;33m(\u001b[0m\u001b[1;34m'NaN'\u001b[0m\u001b[1;33m)\u001b[0m\u001b[1;33m)\u001b[0m \u001b[1;31m#NaN = Not a Number\u001b[0m\u001b[1;33m\u001b[0m\u001b[1;33m\u001b[0m\u001b[0m\n\u001b[0;32m      8\u001b[0m         \u001b[1;32mexcept\u001b[0m\u001b[1;33m:\u001b[0m\u001b[1;33m\u001b[0m\u001b[1;33m\u001b[0m\u001b[0m\n\u001b[1;32m----> 9\u001b[1;33m             \u001b[1;32mraise\u001b[0m \u001b[0mValueError\u001b[0m\u001b[1;33m(\u001b[0m\u001b[1;34m'get_ratios called with bad arg'\u001b[0m\u001b[1;33m)\u001b[0m\u001b[1;33m\u001b[0m\u001b[1;33m\u001b[0m\u001b[0m\n\u001b[0m\u001b[0;32m     10\u001b[0m     \u001b[1;32mreturn\u001b[0m \u001b[0mratios\u001b[0m\u001b[1;33m\u001b[0m\u001b[1;33m\u001b[0m\u001b[0m\n\u001b[0;32m     11\u001b[0m \u001b[1;33m\u001b[0m\u001b[0m\n",
      "\u001b[1;31mValueError\u001b[0m: get_ratios called with bad arg"
     ]
    }
   ],
   "source": [
    "L3 = [5,6,7]\n",
    "get_ratios(L1,L3)"
   ]
  },
  {
   "cell_type": "code",
   "execution_count": 8,
   "metadata": {},
   "outputs": [
    {
     "data": {
      "text/plain": [
       "[0.2, 0.3333333333333333, 0.42857142857142855, nan]"
      ]
     },
     "execution_count": 8,
     "metadata": {},
     "output_type": "execute_result"
    }
   ],
   "source": [
    "L4 = [5,6,7,0]\n",
    "get_ratios(L1,L4)"
   ]
  },
  {
   "cell_type": "markdown",
   "metadata": {},
   "source": [
    "%%latex \n",
    "\\newpage"
   ]
  },
  {
   "cell_type": "markdown",
   "metadata": {},
   "source": [
    "# Video 9: Assertions\n",
    "\n",
    "* Want to be sure that **assumptions** on state of computation are as expected.\n",
    "\n",
    "* Use an **assert statement** to raise an AssertionError exception if assumptions not met.\n",
    "\n",
    "* An example of good **defensive programming**.\n",
    "\n",
    "Really interesting idea! Let's see an example."
   ]
  },
  {
   "cell_type": "code",
   "execution_count": 10,
   "metadata": {},
   "outputs": [],
   "source": [
    "def avg(grades):\n",
    "    assert not len(grades) == 0, 'no grades data'\n",
    "    return sum(grades)/len(grades)"
   ]
  },
  {
   "cell_type": "code",
   "execution_count": 11,
   "metadata": {},
   "outputs": [
    {
     "data": {
      "text/plain": [
       "2.0"
      ]
     },
     "execution_count": 11,
     "metadata": {},
     "output_type": "execute_result"
    }
   ],
   "source": [
    "avg([1,2,3])"
   ]
  },
  {
   "cell_type": "code",
   "execution_count": 12,
   "metadata": {},
   "outputs": [
    {
     "ename": "AssertionError",
     "evalue": "no grades data",
     "output_type": "error",
     "traceback": [
      "\u001b[1;31m---------------------------------------------------------------------------\u001b[0m",
      "\u001b[1;31mAssertionError\u001b[0m                            Traceback (most recent call last)",
      "\u001b[1;32m<ipython-input-12-938d6a1744f6>\u001b[0m in \u001b[0;36m<module>\u001b[1;34m\u001b[0m\n\u001b[1;32m----> 1\u001b[1;33m \u001b[0mavg\u001b[0m\u001b[1;33m(\u001b[0m\u001b[1;33m[\u001b[0m\u001b[1;33m]\u001b[0m\u001b[1;33m)\u001b[0m\u001b[1;33m\u001b[0m\u001b[1;33m\u001b[0m\u001b[0m\n\u001b[0m",
      "\u001b[1;32m<ipython-input-10-2221a6b79207>\u001b[0m in \u001b[0;36mavg\u001b[1;34m(grades)\u001b[0m\n\u001b[0;32m      1\u001b[0m \u001b[1;32mdef\u001b[0m \u001b[0mavg\u001b[0m\u001b[1;33m(\u001b[0m\u001b[0mgrades\u001b[0m\u001b[1;33m)\u001b[0m\u001b[1;33m:\u001b[0m\u001b[1;33m\u001b[0m\u001b[1;33m\u001b[0m\u001b[0m\n\u001b[1;32m----> 2\u001b[1;33m     \u001b[1;32massert\u001b[0m \u001b[1;32mnot\u001b[0m \u001b[0mlen\u001b[0m\u001b[1;33m(\u001b[0m\u001b[0mgrades\u001b[0m\u001b[1;33m)\u001b[0m \u001b[1;33m==\u001b[0m \u001b[1;36m0\u001b[0m\u001b[1;33m,\u001b[0m \u001b[1;34m'no grades data'\u001b[0m\u001b[1;33m\u001b[0m\u001b[1;33m\u001b[0m\u001b[0m\n\u001b[0m\u001b[0;32m      3\u001b[0m     \u001b[1;32mreturn\u001b[0m \u001b[0msum\u001b[0m\u001b[1;33m(\u001b[0m\u001b[0mgrades\u001b[0m\u001b[1;33m)\u001b[0m\u001b[1;33m/\u001b[0m\u001b[0mlen\u001b[0m\u001b[1;33m(\u001b[0m\u001b[0mgrades\u001b[0m\u001b[1;33m)\u001b[0m\u001b[1;33m\u001b[0m\u001b[1;33m\u001b[0m\u001b[0m\n",
      "\u001b[1;31mAssertionError\u001b[0m: no grades data"
     ]
    }
   ],
   "source": [
    "avg([])"
   ]
  },
  {
   "cell_type": "markdown",
   "metadata": {},
   "source": [
    "* Raises an AssertionError if it is given an empty list for grades, otherwise runs ok.\n",
    "\n",
    "---\n",
    "\n",
    "**Properties of assertions**\n",
    "\n",
    "* Assertions don't allow a programmer to control response to unexpected conditions.\n",
    "\n",
    "* Ensure that **execution halts** whenever an expected condition is not met.\n",
    "\n",
    "* Typically used to check inputs to fuctions procedures, but can be used anywhere.\n",
    "\n",
    "* Can be used to check outputs of a function to avoid propagating bad values.\n",
    "\n",
    "* Can make it easier to locate a source of a bug. \n",
    "\n",
    "---\n",
    "\n",
    "**Where to use assertions?**\n",
    "\n",
    "* Check types of arguments or values (e.g. no string stresses).\n",
    "\n",
    "* Check that invariants on data structures are met.\n",
    "\n",
    "* Check constraints on return values (e.g. no negative distances).\n",
    "\n",
    "* Check for violations of constraints on procedure (e.g. no duplicates in a list).\n"
   ]
  },
  {
   "cell_type": "markdown",
   "metadata": {},
   "source": [
    "%%latex \n",
    "\\newpage"
   ]
  },
  {
   "cell_type": "markdown",
   "metadata": {},
   "source": [
    "# Notes during Problem Set #4\n",
    "\n",
    "A more organized way of checking whether a key is or not in a dictionary is shown."
   ]
  },
  {
   "cell_type": "code",
   "execution_count": null,
   "metadata": {},
   "outputs": [],
   "source": [
    "hand = {'a':1, 'q':1, 'l':2, 'm':1, 'u':1, 'i':1}    \n",
    "hand['e']"
   ]
  },
  {
   "cell_type": "code",
   "execution_count": null,
   "metadata": {},
   "outputs": [],
   "source": [
    "hand.get('e', 0)"
   ]
  }
 ],
 "metadata": {
  "kernelspec": {
   "display_name": "Python 3",
   "language": "python",
   "name": "python3"
  },
  "language_info": {
   "codemirror_mode": {
    "name": "ipython",
    "version": 3
   },
   "file_extension": ".py",
   "mimetype": "text/x-python",
   "name": "python",
   "nbconvert_exporter": "python",
   "pygments_lexer": "ipython3",
   "version": "3.9.2-final"
  }
 },
 "nbformat": 4,
 "nbformat_minor": 4
}